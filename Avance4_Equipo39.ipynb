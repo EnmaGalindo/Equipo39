{
 "cells": [
  {
   "cell_type": "markdown",
   "metadata": {
    "id": "cmPxhlflIz12"
   },
   "source": [
    "# Avance 4. Modelos alternativos"
   ]
  },
  {
   "cell_type": "markdown",
   "metadata": {
    "id": "v3wOl2V6I_sY"
   },
   "source": [
    "Curso: Proyecto integrador\n",
    "\n",
    "Título del proyecto:"
   ]
  },
  {
   "cell_type": "markdown",
   "metadata": {
    "id": "5QaT7En7I83t"
   },
   "source": [
    "*   A01321600  Ignacio Moreda Rovirosa\n",
    "*   A01795095\t Enma Beatriz Galindo Arango\n",
    "*   A00826769\t Gustavo Adolfo Benitez Leonés"
   ]
  },
  {
   "cell_type": "markdown",
   "metadata": {
    "id": "lj1laI93Z5xz"
   },
   "source": [
    "# Objetivo de la Entrega\n",
    "\n",
    "El propósito de este avance es explorar distintos algoritmos de aprendizaje automático para determinar cuál ofrece el mejor desempeño en la predicción de satisfacción del cliente a partir de reseñas de Amazon (Health & Personal Care).\n",
    "\n",
    "De acuerdo con el libro Hands-On Machine Learning with Scikit-Learn, Keras and TensorFlow (3rd ed.) de Aurélien Géron (2022), esta fase corresponde a “Fine-Tune Your Model” (Capítulo 2 – End-to-End Machine Learning Project), donde se prueban múltiples algoritmos y se ajustan sus hiperparámetros para mejorar la capacidad de generalización.\n",
    "\n",
    "En este avance se realizarán las siguientes acciones:\n",
    "\n",
    "Construcción de al menos 6 modelos individuales (no ensambles).\n",
    "\n",
    "*   Construcción de al menos 6 modelos individuales (no ensambles).\n",
    "*   Evaluación comparativa mediante métricas de desempeño y tiempos de entrenamiento.\n",
    "*   Selección de los dos modelos con mejor rendimiento.\n",
    "*   Ajuste fino de hiperparámetros mediante GridSearchCV o RandomizedSearchCV.\n",
    "*   Justificación y elección del modelo individual final considerando desempeño, interpretabilidad y complejidad."
   ]
  },
  {
   "cell_type": "code",
   "execution_count": null,
   "metadata": {
    "colab": {
     "base_uri": "https://localhost:8080/"
    },
    "executionInfo": {
     "elapsed": 40472,
     "status": "ok",
     "timestamp": 1760924200353,
     "user": {
      "displayName": "Enma Galindo",
      "userId": "11905448691798853657"
     },
     "user_tz": 360
    },
    "id": "uS6roBSddr33",
    "outputId": "0294dbe4-a968-4406-dbb3-641e58401ab4"
   },
   "outputs": [],
   "source": [
    "!pip install -U shap scikit-learn xgboost lightgbm seaborn"
   ]
  },
  {
   "cell_type": "code",
   "execution_count": null,
   "metadata": {
    "colab": {
     "base_uri": "https://localhost:8080/"
    },
    "executionInfo": {
     "elapsed": 21987,
     "status": "ok",
     "timestamp": 1760924222919,
     "user": {
      "displayName": "Enma Galindo",
      "userId": "11905448691798853657"
     },
     "user_tz": 360
    },
    "id": "rS3EvDFyG1iD",
    "outputId": "97d2bcef-02f9-42a7-a737-da2ba49b70e4"
   },
   "outputs": [],
   "source": [
    "from google.colab import drive\n",
    "drive.mount('/content/drive')"
   ]
  },
  {
   "cell_type": "code",
   "execution_count": null,
   "metadata": {
    "colab": {
     "base_uri": "https://localhost:8080/"
    },
    "executionInfo": {
     "elapsed": 783,
     "status": "ok",
     "timestamp": 1760924226053,
     "user": {
      "displayName": "Enma Galindo",
      "userId": "11905448691798853657"
     },
     "user_tz": 360
    },
    "id": "FgttxEOgHFmg",
    "outputId": "4137b2a6-096b-4300-89fc-23595c2232af"
   },
   "outputs": [],
   "source": [
    "import os\n",
    "DIR = \"/content/drive/MyDrive/Equipo_39_Proyecto_integrador\"\n",
    "os.makedirs(DIR, exist_ok=True)\n",
    "os.chdir(DIR)\n",
    "!pwd"
   ]
  },
  {
   "cell_type": "code",
   "execution_count": null,
   "metadata": {
    "executionInfo": {
     "elapsed": 7217,
     "status": "ok",
     "timestamp": 1760924237968,
     "user": {
      "displayName": "Enma Galindo",
      "userId": "11905448691798853657"
     },
     "user_tz": 360
    },
    "id": "oSkIVJwCbJGn"
   },
   "outputs": [],
   "source": [
    "# ==============================================================\n",
    "# Instalación de librerías necesarias\n",
    "# ==============================================================\n",
    "\n",
    "!pip install -q scikit-learn xgboost lightgbm seaborn shap\n"
   ]
  },
  {
   "cell_type": "code",
   "execution_count": 1,
   "metadata": {
    "colab": {
     "base_uri": "https://localhost:8080/",
     "height": 366
    },
    "executionInfo": {
     "elapsed": 50191,
     "status": "ok",
     "timestamp": 1760924545388,
     "user": {
      "displayName": "Enma Galindo",
      "userId": "11905448691798853657"
     },
     "user_tz": 360
    },
    "id": "r2RUVT8KbKtg",
    "outputId": "3cd597f9-2540-4375-a032-c9444369fe95"
   },
   "outputs": [
    {
     "name": "stdout",
     "output_type": "stream",
     "text": [
      "✅ Dataset cargado exitosamente\n"
     ]
    }
   ],
   "source": [
    "import pandas as pd\n",
    "\n",
    "# Ruta corregida (usa exactamente el nombre con espacios)\n",
    "df = pd.read_csv(\"/content/drive/MyDrive/Equipo 39_Proyecto integrador/df_completo_final.csv\")\n",
    "\n",
    "print(\"✅ Dataset cargado exitosamente\")\n",
    "# print(\"Dimensiones:\", df.shape)\n",
    "# df.head(3)\n"
   ]
  },
  {
   "cell_type": "code",
   "execution_count": 2,
   "metadata": {
    "colab": {
     "base_uri": "https://localhost:8080/"
    },
    "executionInfo": {
     "elapsed": 2028,
     "status": "ok",
     "timestamp": 1760924555955,
     "user": {
      "displayName": "Enma Galindo",
      "userId": "11905448691798853657"
     },
     "user_tz": 360
    },
    "id": "74aYrcRrbNrn",
    "outputId": "09be0d8b-ac34-41b1-fcec-e57d05dbb8ea"
   },
   "outputs": [
    {
     "name": "stdout",
     "output_type": "stream",
     "text": [
      "✅ Datos preparados para modelado\n",
      "Tamaño de entrenamiento: (800000, 10)\n",
      "Tamaño de prueba: (200000, 10)\n"
     ]
    }
   ],
   "source": [
    "# ==============================================================\n",
    "# Selección de variables predictoras y objetivo\n",
    "# ==============================================================\n",
    "\n",
    "from sklearn.model_selection import train_test_split\n",
    "from sklearn.preprocessing import StandardScaler\n",
    "\n",
    "features = [\n",
    "    \"help_ratio\", \"len_body_words\", \"len_headline\", \"upper_ratio\",\n",
    "    \"recency_days\", \"product_freq\", \"user_freq\",\n",
    "    \"vine\", \"verified_purchase\", \"sentiment_polarity\"\n",
    "]\n",
    "\n",
    "target = \"is_positive\"\n",
    "\n",
    "X = df[features].copy()\n",
    "y = df[target].copy()\n",
    "\n",
    "# División entrenamiento / prueba\n",
    "X_train, X_test, y_train, y_test = train_test_split(\n",
    "    X, y, test_size=0.2, stratify=y, random_state=42\n",
    ")\n",
    "\n",
    "# Escalado de variables numéricas\n",
    "scaler = StandardScaler()\n",
    "X_train_scaled = scaler.fit_transform(X_train)\n",
    "X_test_scaled = scaler.transform(X_test)\n",
    "\n",
    "print(\"✅ Datos preparados para modelado\")\n",
    "print(\"Tamaño de entrenamiento:\", X_train_scaled.shape)\n",
    "print(\"Tamaño de prueba:\", X_test_scaled.shape)\n"
   ]
  },
  {
   "cell_type": "code",
   "execution_count": 3,
   "metadata": {
    "executionInfo": {
     "elapsed": 7,
     "status": "ok",
     "timestamp": 1760924565938,
     "user": {
      "displayName": "Enma Galindo",
      "userId": "11905448691798853657"
     },
     "user_tz": 360
    },
    "id": "YGqXKPSQbQ7J"
   },
   "outputs": [],
   "source": [
    "# ==============================================================\n",
    "# Función auxiliar para entrenamiento y evaluación de modelos\n",
    "# ==============================================================\n",
    "\n",
    "from sklearn.metrics import accuracy_score, precision_score, recall_score, f1_score\n",
    "import time\n",
    "\n",
    "def evaluar_modelo(nombre, modelo, X_train, X_test, y_train, y_test):\n",
    "    inicio = time.time()\n",
    "    modelo.fit(X_train, y_train)\n",
    "    fin = time.time()\n",
    "\n",
    "    y_pred = modelo.predict(X_test)\n",
    "\n",
    "    acc = accuracy_score(y_test, y_pred)\n",
    "    prec = precision_score(y_test, y_pred)\n",
    "    rec = recall_score(y_test, y_pred)\n",
    "    f1 = f1_score(y_test, y_pred)\n",
    "    duracion = fin - inicio\n",
    "\n",
    "    print(f\"✅ {nombre} entrenado en {duracion:.2f} segundos.\")\n",
    "    return {\n",
    "        \"Modelo\": nombre,\n",
    "        \"Accuracy\": acc,\n",
    "        \"Precision\": prec,\n",
    "        \"Recall\": rec,\n",
    "        \"F1-Score\": f1,\n",
    "        \"Tiempo (s)\": duracion\n",
    "    }\n"
   ]
  },
  {
   "cell_type": "code",
   "execution_count": 4,
   "metadata": {
    "colab": {
     "base_uri": "https://localhost:8080/"
    },
    "id": "sOuaraeobUxf",
    "outputId": "4f4f8ebd-18a2-45bd-e56f-1146b6c4330a"
   },
   "outputs": [
    {
     "name": "stdout",
     "output_type": "stream",
     "text": [
      "✅ Logistic Regression entrenado en 0.46 segundos.\n",
      "✅ Decision Tree entrenado en 3.59 segundos.\n",
      "✅ Random Forest entrenado en 10.82 segundos.\n",
      "✅ Gradient Boosting entrenado en 55.54 segundos.\n"
     ]
    },
    {
     "name": "stderr",
     "output_type": "stream",
     "text": [
      "/home/gbenitezl/Python/globulive/lib64/python3.13/site-packages/xgboost/training.py:199: UserWarning: [23:22:05] WARNING: /workspace/src/learner.cc:790: \n",
      "Parameters: { \"use_label_encoder\" } are not used.\n",
      "\n",
      "  bst.update(dtrain, iteration=i, fobj=obj)\n"
     ]
    },
    {
     "name": "stdout",
     "output_type": "stream",
     "text": [
      "✅ XGBoost entrenado en 1.67 segundos.\n",
      "[LightGBM] [Info] Number of positive: 638255, number of negative: 161745\n",
      "[LightGBM] [Info] Auto-choosing row-wise multi-threading, the overhead of testing was 0.062334 seconds.\n",
      "You can set `force_row_wise=true` to remove the overhead.\n",
      "And if memory is not enough, you can set `force_col_wise=true`.\n",
      "[LightGBM] [Info] Total Bins 1574\n",
      "[LightGBM] [Info] Number of data points in the train set: 800000, number of used features: 10\n",
      "[LightGBM] [Info] [binary:BoostFromScore]: pavg=0.797819 -> initscore=1.372717\n",
      "[LightGBM] [Info] Start training from score 1.372717\n",
      "✅ LightGBM entrenado en 3.50 segundos.\n",
      "✅ MLP Neural Network entrenado en 85.64 segundos.\n",
      "\n",
      "=== Comparativa de modelos ===\n"
     ]
    },
    {
     "data": {
      "application/vnd.microsoft.datawrangler.viewer.v0+json": {
       "columns": [
        {
         "name": "index",
         "rawType": "int64",
         "type": "integer"
        },
        {
         "name": "Modelo",
         "rawType": "object",
         "type": "string"
        },
        {
         "name": "Accuracy",
         "rawType": "float64",
         "type": "float"
        },
        {
         "name": "Precision",
         "rawType": "float64",
         "type": "float"
        },
        {
         "name": "Recall",
         "rawType": "float64",
         "type": "float"
        },
        {
         "name": "F1-Score",
         "rawType": "float64",
         "type": "float"
        },
        {
         "name": "Tiempo (s)",
         "rawType": "float64",
         "type": "float"
        }
       ],
       "ref": "47c2f1f2-e493-4a64-bff3-74842e0a8eb4",
       "rows": [
        [
         "0",
         "LightGBM",
         "0.87358",
         "0.8889648460130234",
         "0.9616580180993206",
         "0.9238837242907374",
         "3.4977877140045166"
        ],
        [
         "1",
         "XGBoost",
         "0.87324",
         "0.8888760112190259",
         "0.9612945275876764",
         "0.9236679834280759",
         "1.671999216079712"
        ],
        [
         "2",
         "Random Forest",
         "0.86964",
         "0.8890669993121699",
         "0.9558735053019478",
         "0.9212606986029149",
         "10.816293954849243"
        ],
        [
         "3",
         "MLP Neural Network",
         "0.86741",
         "0.8829675770275872",
         "0.9612130555764458",
         "0.9204304043592544",
         "85.63645219802856"
        ],
        [
         "4",
         "Gradient Boosting",
         "0.865505",
         "0.8799961045136084",
         "0.9627046200897446",
         "0.919494201271979",
         "55.539849042892456"
        ],
        [
         "5",
         "Logistic Regression",
         "0.82303",
         "0.8302358485548026",
         "0.9782031034569201",
         "0.8981661037040447",
         "0.4561426639556885"
        ],
        [
         "6",
         "Decision Tree",
         "0.808885",
         "0.8846014871726604",
         "0.8745393697826578",
         "0.8795416513032873",
         "3.587399959564209"
        ]
       ],
       "shape": {
        "columns": 6,
        "rows": 7
       }
      },
      "text/html": [
       "<div>\n",
       "<style scoped>\n",
       "    .dataframe tbody tr th:only-of-type {\n",
       "        vertical-align: middle;\n",
       "    }\n",
       "\n",
       "    .dataframe tbody tr th {\n",
       "        vertical-align: top;\n",
       "    }\n",
       "\n",
       "    .dataframe thead th {\n",
       "        text-align: right;\n",
       "    }\n",
       "</style>\n",
       "<table border=\"1\" class=\"dataframe\">\n",
       "  <thead>\n",
       "    <tr style=\"text-align: right;\">\n",
       "      <th></th>\n",
       "      <th>Modelo</th>\n",
       "      <th>Accuracy</th>\n",
       "      <th>Precision</th>\n",
       "      <th>Recall</th>\n",
       "      <th>F1-Score</th>\n",
       "      <th>Tiempo (s)</th>\n",
       "    </tr>\n",
       "  </thead>\n",
       "  <tbody>\n",
       "    <tr>\n",
       "      <th>0</th>\n",
       "      <td>LightGBM</td>\n",
       "      <td>0.873580</td>\n",
       "      <td>0.888965</td>\n",
       "      <td>0.961658</td>\n",
       "      <td>0.923884</td>\n",
       "      <td>3.497788</td>\n",
       "    </tr>\n",
       "    <tr>\n",
       "      <th>1</th>\n",
       "      <td>XGBoost</td>\n",
       "      <td>0.873240</td>\n",
       "      <td>0.888876</td>\n",
       "      <td>0.961295</td>\n",
       "      <td>0.923668</td>\n",
       "      <td>1.671999</td>\n",
       "    </tr>\n",
       "    <tr>\n",
       "      <th>2</th>\n",
       "      <td>Random Forest</td>\n",
       "      <td>0.869640</td>\n",
       "      <td>0.889067</td>\n",
       "      <td>0.955874</td>\n",
       "      <td>0.921261</td>\n",
       "      <td>10.816294</td>\n",
       "    </tr>\n",
       "    <tr>\n",
       "      <th>3</th>\n",
       "      <td>MLP Neural Network</td>\n",
       "      <td>0.867410</td>\n",
       "      <td>0.882968</td>\n",
       "      <td>0.961213</td>\n",
       "      <td>0.920430</td>\n",
       "      <td>85.636452</td>\n",
       "    </tr>\n",
       "    <tr>\n",
       "      <th>4</th>\n",
       "      <td>Gradient Boosting</td>\n",
       "      <td>0.865505</td>\n",
       "      <td>0.879996</td>\n",
       "      <td>0.962705</td>\n",
       "      <td>0.919494</td>\n",
       "      <td>55.539849</td>\n",
       "    </tr>\n",
       "    <tr>\n",
       "      <th>5</th>\n",
       "      <td>Logistic Regression</td>\n",
       "      <td>0.823030</td>\n",
       "      <td>0.830236</td>\n",
       "      <td>0.978203</td>\n",
       "      <td>0.898166</td>\n",
       "      <td>0.456143</td>\n",
       "    </tr>\n",
       "    <tr>\n",
       "      <th>6</th>\n",
       "      <td>Decision Tree</td>\n",
       "      <td>0.808885</td>\n",
       "      <td>0.884601</td>\n",
       "      <td>0.874539</td>\n",
       "      <td>0.879542</td>\n",
       "      <td>3.587400</td>\n",
       "    </tr>\n",
       "  </tbody>\n",
       "</table>\n",
       "</div>"
      ],
      "text/plain": [
       "                Modelo  Accuracy  Precision    Recall  F1-Score  Tiempo (s)\n",
       "0             LightGBM  0.873580   0.888965  0.961658  0.923884    3.497788\n",
       "1              XGBoost  0.873240   0.888876  0.961295  0.923668    1.671999\n",
       "2        Random Forest  0.869640   0.889067  0.955874  0.921261   10.816294\n",
       "3   MLP Neural Network  0.867410   0.882968  0.961213  0.920430   85.636452\n",
       "4    Gradient Boosting  0.865505   0.879996  0.962705  0.919494   55.539849\n",
       "5  Logistic Regression  0.823030   0.830236  0.978203  0.898166    0.456143\n",
       "6        Decision Tree  0.808885   0.884601  0.874539  0.879542    3.587400"
      ]
     },
     "metadata": {},
     "output_type": "display_data"
    }
   ],
   "source": [
    "# ==============================================================\n",
    "# Entrenamiento de modelos alternativos\n",
    "# ==============================================================\n",
    "\n",
    "from sklearn.linear_model import LogisticRegression\n",
    "from sklearn.tree import DecisionTreeClassifier\n",
    "from sklearn.ensemble import RandomForestClassifier, GradientBoostingClassifier\n",
    "from lightgbm import LGBMClassifier\n",
    "from sklearn.neural_network import MLPClassifier\n",
    "import xgboost as xgb\n",
    "import pandas as pd\n",
    "\n",
    "resultados = []\n",
    "\n",
    "# 1️⃣ Regresión Logística\n",
    "logreg = LogisticRegression(max_iter=1000, random_state=42)\n",
    "resultados.append(evaluar_modelo(\"Logistic Regression\", logreg, X_train_scaled, X_test_scaled, y_train, y_test))\n",
    "\n",
    "# 2️⃣ Árbol de Decisión\n",
    "tree = DecisionTreeClassifier(max_depth=None, random_state=42)\n",
    "resultados.append(evaluar_modelo(\"Decision Tree\", tree, X_train, X_test, y_train, y_test))\n",
    "\n",
    "# 3️⃣ Random Forest\n",
    "rf = RandomForestClassifier(n_estimators=100, random_state=42, n_jobs=-1)\n",
    "resultados.append(evaluar_modelo(\"Random Forest\", rf, X_train, X_test, y_train, y_test))\n",
    "\n",
    "# 4️⃣ Gradient Boosting\n",
    "gb = GradientBoostingClassifier(random_state=42)\n",
    "resultados.append(evaluar_modelo(\"Gradient Boosting\", gb, X_train, X_test, y_train, y_test))\n",
    "\n",
    "# 5️⃣ XGBoost\n",
    "xgb_clf = xgb.XGBClassifier(\n",
    "    objective='binary:logistic',\n",
    "    eval_metric='logloss',\n",
    "    n_estimators=200,\n",
    "    max_depth=5,\n",
    "    random_state=42,\n",
    "    use_label_encoder=False\n",
    ")\n",
    "resultados.append(evaluar_modelo(\"XGBoost\", xgb_clf, X_train, X_test, y_train, y_test))\n",
    "\n",
    "# 6️⃣ LightGBM\n",
    "lgbm = LGBMClassifier(\n",
    "    n_estimators=200,\n",
    "    learning_rate=0.1,\n",
    "    max_depth=-1,\n",
    "    random_state=42,\n",
    "    n_jobs=-1\n",
    ")\n",
    "resultados.append(evaluar_modelo(\"LightGBM\", lgbm, X_train, X_test, y_train, y_test))\n",
    "\n",
    "# 7️⃣ Red Neuronal Multicapa (opcional para puntos extra)\n",
    "mlp = MLPClassifier(hidden_layer_sizes=(100,), max_iter=300, random_state=42)\n",
    "resultados.append(evaluar_modelo(\"MLP Neural Network\", mlp, X_train_scaled, X_test_scaled, y_train, y_test))\n",
    "\n",
    "# Convertir resultados en DataFrame\n",
    "resultados_df = pd.DataFrame(resultados)\n",
    "resultados_df = resultados_df.sort_values(by=\"F1-Score\", ascending=False).reset_index(drop=True)\n",
    "\n",
    "print(\"\\n=== Comparativa de modelos ===\")\n",
    "display(resultados_df)\n"
   ]
  },
  {
   "cell_type": "code",
   "execution_count": 5,
   "metadata": {
    "id": "SSM9BLIibb3D"
   },
   "outputs": [
    {
     "name": "stderr",
     "output_type": "stream",
     "text": [
      "/tmp/ipykernel_36874/3573628358.py:9: FutureWarning: \n",
      "\n",
      "Passing `palette` without assigning `hue` is deprecated and will be removed in v0.14.0. Assign the `y` variable to `hue` and set `legend=False` for the same effect.\n",
      "\n",
      "  sns.barplot(data=resultados_df, x=\"F1-Score\", y=\"Modelo\", palette=\"viridis\")\n"
     ]
    },
    {
     "data": {
      "image/png": "[encoded data removed]",
      "text/plain": [
       "<Figure size 1000x600 with 1 Axes>"
      ]
     },
     "metadata": {},
     "output_type": "display_data"
    }
   ],
   "source": [
    "# ==============================================================\n",
    "# Visualización comparativa de desempeño\n",
    "# ==============================================================\n",
    "\n",
    "import seaborn as sns\n",
    "import matplotlib.pyplot as plt\n",
    "\n",
    "plt.figure(figsize=(10,6))\n",
    "sns.barplot(data=resultados_df, x=\"F1-Score\", y=\"Modelo\", palette=\"viridis\")\n",
    "plt.title(\"Comparativa de Modelos Alternativos (Baseline vs Modelos Avanzados)\", fontsize=14)\n",
    "plt.xlabel(\"F1-Score\")\n",
    "plt.ylabel(\"Modelo\")\n",
    "plt.grid(True, linestyle='--', alpha=0.6)\n",
    "plt.show()\n"
   ]
  },
  {
   "cell_type": "code",
   "execution_count": 6,
   "metadata": {
    "id": "o6Kd-BqSbdQh"
   },
   "outputs": [
    {
     "name": "stdout",
     "output_type": "stream",
     "text": [
      "=== Modelos seleccionados para ajuste fino ===\n"
     ]
    },
    {
     "data": {
      "application/vnd.microsoft.datawrangler.viewer.v0+json": {
       "columns": [
        {
         "name": "index",
         "rawType": "int64",
         "type": "integer"
        },
        {
         "name": "Modelo",
         "rawType": "object",
         "type": "string"
        },
        {
         "name": "Accuracy",
         "rawType": "float64",
         "type": "float"
        },
        {
         "name": "Precision",
         "rawType": "float64",
         "type": "float"
        },
        {
         "name": "Recall",
         "rawType": "float64",
         "type": "float"
        },
        {
         "name": "F1-Score",
         "rawType": "float64",
         "type": "float"
        },
        {
         "name": "Tiempo (s)",
         "rawType": "float64",
         "type": "float"
        }
       ],
       "ref": "da870b96-ea59-41c0-908c-c89c34030bc8",
       "rows": [
        [
         "0",
         "LightGBM",
         "0.87358",
         "0.8889648460130234",
         "0.9616580180993206",
         "0.9238837242907374",
         "3.4977877140045166"
        ],
        [
         "1",
         "XGBoost",
         "0.87324",
         "0.8888760112190259",
         "0.9612945275876764",
         "0.9236679834280759",
         "1.671999216079712"
        ]
       ],
       "shape": {
        "columns": 6,
        "rows": 2
       }
      },
      "text/html": [
       "<div>\n",
       "<style scoped>\n",
       "    .dataframe tbody tr th:only-of-type {\n",
       "        vertical-align: middle;\n",
       "    }\n",
       "\n",
       "    .dataframe tbody tr th {\n",
       "        vertical-align: top;\n",
       "    }\n",
       "\n",
       "    .dataframe thead th {\n",
       "        text-align: right;\n",
       "    }\n",
       "</style>\n",
       "<table border=\"1\" class=\"dataframe\">\n",
       "  <thead>\n",
       "    <tr style=\"text-align: right;\">\n",
       "      <th></th>\n",
       "      <th>Modelo</th>\n",
       "      <th>Accuracy</th>\n",
       "      <th>Precision</th>\n",
       "      <th>Recall</th>\n",
       "      <th>F1-Score</th>\n",
       "      <th>Tiempo (s)</th>\n",
       "    </tr>\n",
       "  </thead>\n",
       "  <tbody>\n",
       "    <tr>\n",
       "      <th>0</th>\n",
       "      <td>LightGBM</td>\n",
       "      <td>0.87358</td>\n",
       "      <td>0.888965</td>\n",
       "      <td>0.961658</td>\n",
       "      <td>0.923884</td>\n",
       "      <td>3.497788</td>\n",
       "    </tr>\n",
       "    <tr>\n",
       "      <th>1</th>\n",
       "      <td>XGBoost</td>\n",
       "      <td>0.87324</td>\n",
       "      <td>0.888876</td>\n",
       "      <td>0.961295</td>\n",
       "      <td>0.923668</td>\n",
       "      <td>1.671999</td>\n",
       "    </tr>\n",
       "  </tbody>\n",
       "</table>\n",
       "</div>"
      ],
      "text/plain": [
       "     Modelo  Accuracy  Precision    Recall  F1-Score  Tiempo (s)\n",
       "0  LightGBM   0.87358   0.888965  0.961658  0.923884    3.497788\n",
       "1   XGBoost   0.87324   0.888876  0.961295  0.923668    1.671999"
      ]
     },
     "metadata": {},
     "output_type": "display_data"
    }
   ],
   "source": [
    "# ==============================================================\n",
    "# Selección de los mejores modelos\n",
    "# ==============================================================\n",
    "\n",
    "top_models = resultados_df.head(2)\n",
    "print(\"=== Modelos seleccionados para ajuste fino ===\")\n",
    "display(top_models)\n"
   ]
  },
  {
   "cell_type": "code",
   "execution_count": 22,
   "metadata": {
    "id": "4YugKmNLblQe"
   },
   "outputs": [
    {
     "name": "stdout",
     "output_type": "stream",
     "text": [
      "Fitting 3 folds for each of 18 candidates, totalling 54 fits\n",
      "[CV 1/3] END criterion=gini, max_depth=10, min_samples_split=50;, score=0.920 total time=   2.4s\n",
      "[CV 1/3] END criterion=gini, max_depth=10, min_samples_split=10;, score=0.920 total time=   2.4s\n",
      "[CV 1/3] END criterion=gini, max_depth=10, min_samples_split=20;, score=0.920 total time=   2.4s\n",
      "[CV 3/3] END criterion=gini, max_depth=10, min_samples_split=20;, score=0.919 total time=   2.5s\n",
      "[CV 2/3] END criterion=gini, max_depth=10, min_samples_split=50;, score=0.919 total time=   2.5s\n",
      "[CV 2/3] END criterion=gini, max_depth=10, min_samples_split=10;, score=0.919 total time=   2.5s\n",
      "[CV 2/3] END criterion=gini, max_depth=10, min_samples_split=20;, score=0.919 total time=   2.7s\n",
      "[CV 3/3] END criterion=gini, max_depth=10, min_samples_split=10;, score=0.919 total time=   2.4s\n",
      "[CV 3/3] END criterion=gini, max_depth=10, min_samples_split=50;, score=0.919 total time=   3.2s\n",
      "[CV 1/3] END criterion=gini, max_depth=20, min_samples_split=20;, score=0.907 total time=   3.8s\n",
      "[CV 1/3] END criterion=gini, max_depth=20, min_samples_split=50;, score=0.912 total time=   3.6s\n",
      "[CV 3/3] END criterion=gini, max_depth=20, min_samples_split=20;, score=0.907 total time=   3.7s\n",
      "[CV 2/3] END criterion=gini, max_depth=20, min_samples_split=10;, score=0.904 total time=   3.9s\n",
      "[CV 3/3] END criterion=gini, max_depth=20, min_samples_split=10;, score=0.904 total time=   4.1s\n",
      "[CV 1/3] END criterion=gini, max_depth=20, min_samples_split=10;, score=0.905 total time=   3.9s\n",
      "[CV 2/3] END criterion=gini, max_depth=20, min_samples_split=20;, score=0.907 total time=   4.2s\n",
      "[CV 1/3] END criterion=entropy, max_depth=10, min_samples_split=10;, score=0.920 total time=   2.2s\n",
      "[CV 3/3] END criterion=gini, max_depth=20, min_samples_split=50;, score=0.911 total time=   3.8s\n",
      "[CV 3/3] END criterion=entropy, max_depth=10, min_samples_split=10;, score=0.920 total time=   2.3s\n",
      "[CV 2/3] END criterion=gini, max_depth=20, min_samples_split=50;, score=0.912 total time=   4.1s\n",
      "[CV 1/3] END criterion=entropy, max_depth=10, min_samples_split=20;, score=0.920 total time=   2.3s\n",
      "[CV 2/3] END criterion=gini, max_depth=None, min_samples_split=10;, score=0.880 total time=   4.2s\n",
      "[CV 2/3] END criterion=entropy, max_depth=10, min_samples_split=20;, score=0.920 total time=   2.3s\n",
      "[CV 2/3] END criterion=entropy, max_depth=10, min_samples_split=10;, score=0.920 total time=   2.8s\n",
      "[CV 2/3] END criterion=gini, max_depth=None, min_samples_split=20;, score=0.890 total time=   4.2s\n",
      "[CV 1/3] END criterion=gini, max_depth=None, min_samples_split=10;, score=0.881 total time=   4.6s\n",
      "[CV 1/3] END criterion=gini, max_depth=None, min_samples_split=20;, score=0.890 total time=   4.5s\n",
      "[CV 3/3] END criterion=gini, max_depth=None, min_samples_split=20;, score=0.891 total time=   4.4s\n",
      "[CV 1/3] END criterion=gini, max_depth=None, min_samples_split=50;, score=0.904 total time=   4.1s\n",
      "[CV 3/3] END criterion=gini, max_depth=None, min_samples_split=10;, score=0.882 total time=   4.9s\n",
      "[CV 3/3] END criterion=gini, max_depth=None, min_samples_split=50;, score=0.904 total time=   4.2s\n",
      "[CV 2/3] END criterion=gini, max_depth=None, min_samples_split=50;, score=0.905 total time=   4.5s\n",
      "[CV 3/3] END criterion=entropy, max_depth=10, min_samples_split=20;, score=0.920 total time=   2.4s\n",
      "[CV 1/3] END criterion=entropy, max_depth=10, min_samples_split=50;, score=0.920 total time=   2.5s\n",
      "[CV 3/3] END criterion=entropy, max_depth=10, min_samples_split=50;, score=0.920 total time=   2.3s\n",
      "[CV 2/3] END criterion=entropy, max_depth=10, min_samples_split=50;, score=0.920 total time=   2.3s\n",
      "[CV 1/3] END criterion=entropy, max_depth=20, min_samples_split=10;, score=0.907 total time=   4.0s\n",
      "[CV 1/3] END criterion=entropy, max_depth=20, min_samples_split=50;, score=0.913 total time=   3.6s\n",
      "[CV 2/3] END criterion=entropy, max_depth=20, min_samples_split=20;, score=0.910 total time=   3.9s\n",
      "[CV 3/3] END criterion=entropy, max_depth=20, min_samples_split=20;, score=0.909 total time=   3.9s\n",
      "[CV 3/3] END criterion=entropy, max_depth=20, min_samples_split=10;, score=0.907 total time=   4.1s\n",
      "[CV 2/3] END criterion=entropy, max_depth=20, min_samples_split=10;, score=0.907 total time=   4.2s\n",
      "[CV 3/3] END criterion=entropy, max_depth=20, min_samples_split=50;, score=0.914 total time=   3.7s\n",
      "[CV 2/3] END criterion=entropy, max_depth=20, min_samples_split=50;, score=0.914 total time=   4.0s\n",
      "[CV 1/3] END criterion=entropy, max_depth=20, min_samples_split=20;, score=0.910 total time=   4.4s\n",
      "[CV 1/3] END criterion=entropy, max_depth=None, min_samples_split=10;, score=0.881 total time=   4.4s\n",
      "[CV 2/3] END criterion=entropy, max_depth=None, min_samples_split=10;, score=0.880 total time=   4.2s\n",
      "[CV 1/3] END criterion=entropy, max_depth=None, min_samples_split=50;, score=0.904 total time=   3.6s\n",
      "[CV 3/3] END criterion=entropy, max_depth=None, min_samples_split=10;, score=0.881 total time=   4.2s\n",
      "[CV 3/3] END criterion=entropy, max_depth=None, min_samples_split=20;, score=0.890 total time=   3.7s\n",
      "[CV 1/3] END criterion=entropy, max_depth=None, min_samples_split=20;, score=0.891 total time=   3.9s\n",
      "[CV 2/3] END criterion=entropy, max_depth=None, min_samples_split=20;, score=0.890 total time=   3.9s\n",
      "[CV 2/3] END criterion=entropy, max_depth=None, min_samples_split=50;, score=0.904 total time=   2.9s\n",
      "[CV 3/3] END criterion=entropy, max_depth=None, min_samples_split=50;, score=0.905 total time=   2.8s\n",
      "✅ Mejor configuración Decision Tree:\n",
      "{'criterion': 'entropy', 'max_depth': 10, 'min_samples_split': 50}\n",
      "Mejor F1-Score (CV): 0.9200\n"
     ]
    }
   ],
   "source": [
    "# ==============================================================\n",
    "# Ajuste fino de hiperparámetros - Decision Tree\n",
    "# ==============================================================\n",
    "\n",
    "from sklearn.model_selection import GridSearchCV\n",
    "from sklearn.tree import DecisionTreeClassifier\n",
    "\n",
    "param_grid_tree = {\n",
    "    'max_depth': [10, 20, None],\n",
    "    'min_samples_split': [10, 20, 50],\n",
    "    'criterion': ['gini', 'entropy']\n",
    "}\n",
    "\n",
    "tree_base = DecisionTreeClassifier(random_state=42)\n",
    "\n",
    "grid_tree = GridSearchCV(\n",
    "    estimator=tree_base,\n",
    "    param_grid=param_grid_tree,\n",
    "    scoring='f1',\n",
    "    cv=3,\n",
    "    n_jobs=-1,\n",
    "    verbose=3\n",
    ")\n",
    "# Nota: Usamos X_train y X_test (datos sin escalar) para modelos basados en árboles\n",
    "grid_tree.fit(X_train, y_train) \n",
    "\n",
    "print(\"✅ Mejor configuración Decision Tree:\")\n",
    "print(grid_tree.best_params_)\n",
    "print(f\"Mejor F1-Score (CV): {grid_tree.best_score_:.4f}\")"
   ]
  },
  {
   "cell_type": "code",
   "execution_count": 23,
   "metadata": {
    "id": "i09x6XIYbmq4"
   },
   "outputs": [
    {
     "name": "stdout",
     "output_type": "stream",
     "text": [
      "🗑️ Objeto GridSearchCV de Decision Tree liberado.\n",
      "\n",
      "=== Resultados Decision Tree Ajustado ===\n",
      "Accuracy:  0.8670\n",
      "Precision: 0.8810\n",
      "Recall:    0.9635\n",
      "F1-Score:  0.9204\n"
     ]
    }
   ],
   "source": [
    "# ==============================================================\n",
    "# Evaluación del modelo Decision Tree ajustado\n",
    "# ==============================================================\n",
    "import gc\n",
    "\n",
    "best_tree = grid_tree.best_estimator_\n",
    "\n",
    "# Liberamos el objeto de búsqueda que consume mucha memoria\n",
    "del grid_tree\n",
    "gc.collect()\n",
    "print(\"🗑️ Objeto GridSearchCV de Decision Tree liberado.\")\n",
    "\n",
    "y_pred_tree_tuned = best_tree.predict(X_test)\n",
    "\n",
    "print(\"\\n=== Resultados Decision Tree Ajustado ===\")\n",
    "print(f\"Accuracy:  {accuracy_score(y_test, y_pred_tree_tuned):.4f}\")\n",
    "print(f\"Precision: {precision_score(y_test, y_pred_tree_tuned):.4f}\")\n",
    "print(f\"Recall:    {recall_score(y_test, y_pred_tree_tuned):.4f}\")\n",
    "print(f\"F1-Score:  {f1_score(y_test, y_pred_tree_tuned):.4f}\")"
   ]
  },
  {
   "cell_type": "code",
   "execution_count": 36,
   "metadata": {
    "id": "BF-CjLVIbn-_"
   },
   "outputs": [
    {
     "name": "stdout",
     "output_type": "stream",
     "text": [
      "Fitting 3 folds for each of 8 candidates, totalling 24 fits\n"
     ]
    },
    {
     "name": "stderr",
     "output_type": "stream",
     "text": [
      "/home/gbenitezl/Python/globulive/lib64/python3.13/site-packages/xgboost/training.py:199: UserWarning: [23:45:42] WARNING: /workspace/src/learner.cc:790: \n",
      "Parameters: { \"use_label_encoder\" } are not used.\n",
      "\n",
      "  bst.update(dtrain, iteration=i, fobj=obj)\n",
      "/home/gbenitezl/Python/globulive/lib64/python3.13/site-packages/xgboost/training.py:199: UserWarning: [23:45:42] WARNING: /workspace/src/learner.cc:790: \n",
      "Parameters: { \"use_label_encoder\" } are not used.\n",
      "\n",
      "  bst.update(dtrain, iteration=i, fobj=obj)\n",
      "/home/gbenitezl/Python/globulive/lib64/python3.13/site-packages/xgboost/training.py:199: UserWarning: [23:45:42] WARNING: /workspace/src/learner.cc:790: \n",
      "Parameters: { \"use_label_encoder\" } are not used.\n",
      "\n",
      "  bst.update(dtrain, iteration=i, fobj=obj)\n",
      "/home/gbenitezl/Python/globulive/lib64/python3.13/site-packages/xgboost/training.py:199: UserWarning: [23:45:42] WARNING: /workspace/src/learner.cc:790: \n",
      "Parameters: { \"use_label_encoder\" } are not used.\n",
      "\n",
      "  bst.update(dtrain, iteration=i, fobj=obj)\n",
      "/home/gbenitezl/Python/globulive/lib64/python3.13/site-packages/xgboost/training.py:199: UserWarning: [23:45:42] WARNING: /workspace/src/learner.cc:790: \n",
      "Parameters: { \"use_label_encoder\" } are not used.\n",
      "\n",
      "  bst.update(dtrain, iteration=i, fobj=obj)\n",
      "/home/gbenitezl/Python/globulive/lib64/python3.13/site-packages/xgboost/training.py:199: UserWarning: [23:45:42] WARNING: /workspace/src/learner.cc:790: \n",
      "Parameters: { \"use_label_encoder\" } are not used.\n",
      "\n",
      "  bst.update(dtrain, iteration=i, fobj=obj)\n",
      "/home/gbenitezl/Python/globulive/lib64/python3.13/site-packages/xgboost/training.py:199: UserWarning: [23:45:42] WARNING: /workspace/src/learner.cc:790: \n",
      "Parameters: { \"use_label_encoder\" } are not used.\n",
      "\n",
      "  bst.update(dtrain, iteration=i, fobj=obj)\n",
      "/home/gbenitezl/Python/globulive/lib64/python3.13/site-packages/xgboost/training.py:199: UserWarning: [23:45:42] WARNING: /workspace/src/learner.cc:790: \n",
      "Parameters: { \"use_label_encoder\" } are not used.\n",
      "\n",
      "  bst.update(dtrain, iteration=i, fobj=obj)\n",
      "/home/gbenitezl/Python/globulive/lib64/python3.13/site-packages/xgboost/training.py:199: UserWarning: [23:45:42] WARNING: /workspace/src/learner.cc:790: \n",
      "Parameters: { \"use_label_encoder\" } are not used.\n",
      "\n",
      "  bst.update(dtrain, iteration=i, fobj=obj)\n",
      "/home/gbenitezl/Python/globulive/lib64/python3.13/site-packages/xgboost/training.py:199: UserWarning: [23:45:42] WARNING: /workspace/src/learner.cc:790: \n",
      "Parameters: { \"use_label_encoder\" } are not used.\n",
      "\n",
      "  bst.update(dtrain, iteration=i, fobj=obj)\n",
      "/home/gbenitezl/Python/globulive/lib64/python3.13/site-packages/xgboost/training.py:199: UserWarning: [23:45:42] WARNING: /workspace/src/learner.cc:790: \n",
      "Parameters: { \"use_label_encoder\" } are not used.\n",
      "\n",
      "  bst.update(dtrain, iteration=i, fobj=obj)\n",
      "/home/gbenitezl/Python/globulive/lib64/python3.13/site-packages/xgboost/training.py:199: UserWarning: [23:45:43] WARNING: /workspace/src/learner.cc:790: \n",
      "Parameters: { \"use_label_encoder\" } are not used.\n",
      "\n",
      "  bst.update(dtrain, iteration=i, fobj=obj)\n",
      "/home/gbenitezl/Python/globulive/lib64/python3.13/site-packages/xgboost/training.py:199: UserWarning: [23:45:43] WARNING: /workspace/src/learner.cc:790: \n",
      "Parameters: { \"use_label_encoder\" } are not used.\n",
      "\n",
      "  bst.update(dtrain, iteration=i, fobj=obj)\n",
      "/home/gbenitezl/Python/globulive/lib64/python3.13/site-packages/xgboost/training.py:199: UserWarning: [23:45:43] WARNING: /workspace/src/learner.cc:790: \n",
      "Parameters: { \"use_label_encoder\" } are not used.\n",
      "\n",
      "  bst.update(dtrain, iteration=i, fobj=obj)\n",
      "/home/gbenitezl/Python/globulive/lib64/python3.13/site-packages/xgboost/training.py:199: UserWarning: [23:45:43] WARNING: /workspace/src/learner.cc:790: \n",
      "Parameters: { \"use_label_encoder\" } are not used.\n",
      "\n",
      "  bst.update(dtrain, iteration=i, fobj=obj)\n",
      "/home/gbenitezl/Python/globulive/lib64/python3.13/site-packages/xgboost/training.py:199: UserWarning: [23:45:43] WARNING: /workspace/src/learner.cc:790: \n",
      "Parameters: { \"use_label_encoder\" } are not used.\n",
      "\n",
      "  bst.update(dtrain, iteration=i, fobj=obj)\n",
      "/home/gbenitezl/Python/globulive/lib64/python3.13/site-packages/xgboost/training.py:199: UserWarning: [23:45:47] WARNING: /workspace/src/learner.cc:790: \n",
      "Parameters: { \"use_label_encoder\" } are not used.\n",
      "\n",
      "  bst.update(dtrain, iteration=i, fobj=obj)\n",
      "/home/gbenitezl/Python/globulive/lib64/python3.13/site-packages/xgboost/training.py:199: UserWarning: [23:45:47] WARNING: /workspace/src/learner.cc:790: \n",
      "Parameters: { \"use_label_encoder\" } are not used.\n",
      "\n",
      "  bst.update(dtrain, iteration=i, fobj=obj)\n",
      "/home/gbenitezl/Python/globulive/lib64/python3.13/site-packages/xgboost/training.py:199: UserWarning: [23:45:47] WARNING: /workspace/src/learner.cc:790: \n",
      "Parameters: { \"use_label_encoder\" } are not used.\n",
      "\n",
      "  bst.update(dtrain, iteration=i, fobj=obj)\n",
      "/home/gbenitezl/Python/globulive/lib64/python3.13/site-packages/xgboost/training.py:199: UserWarning: [23:45:47] WARNING: /workspace/src/learner.cc:790: \n",
      "Parameters: { \"use_label_encoder\" } are not used.\n",
      "\n",
      "  bst.update(dtrain, iteration=i, fobj=obj)\n",
      "/home/gbenitezl/Python/globulive/lib64/python3.13/site-packages/xgboost/training.py:199: UserWarning: [23:45:48] WARNING: /workspace/src/learner.cc:790: \n",
      "Parameters: { \"use_label_encoder\" } are not used.\n",
      "\n",
      "  bst.update(dtrain, iteration=i, fobj=obj)\n",
      "/home/gbenitezl/Python/globulive/lib64/python3.13/site-packages/xgboost/training.py:199: UserWarning: [23:45:48] WARNING: /workspace/src/learner.cc:790: \n",
      "Parameters: { \"use_label_encoder\" } are not used.\n",
      "\n",
      "  bst.update(dtrain, iteration=i, fobj=obj)\n",
      "/home/gbenitezl/Python/globulive/lib64/python3.13/site-packages/xgboost/training.py:199: UserWarning: [23:45:49] WARNING: /workspace/src/learner.cc:790: \n",
      "Parameters: { \"use_label_encoder\" } are not used.\n",
      "\n",
      "  bst.update(dtrain, iteration=i, fobj=obj)\n",
      "/home/gbenitezl/Python/globulive/lib64/python3.13/site-packages/xgboost/training.py:199: UserWarning: [23:45:49] WARNING: /workspace/src/learner.cc:790: \n",
      "Parameters: { \"use_label_encoder\" } are not used.\n",
      "\n",
      "  bst.update(dtrain, iteration=i, fobj=obj)\n",
      "/home/gbenitezl/Python/globulive/lib64/python3.13/site-packages/xgboost/training.py:199: UserWarning: [23:45:54] WARNING: /workspace/src/learner.cc:790: \n",
      "Parameters: { \"use_label_encoder\" } are not used.\n",
      "\n",
      "  bst.update(dtrain, iteration=i, fobj=obj)\n"
     ]
    },
    {
     "name": "stdout",
     "output_type": "stream",
     "text": [
      "✅ Mejor configuración XGBoost:\n",
      "{'n_estimators': 200, 'max_depth': 5, 'learning_rate': 0.2}\n",
      "Mejor F1-Score (CV): 0.9232\n"
     ]
    }
   ],
   "source": [
    "# ==============================================================\n",
    "# Ajuste fino de hiperparámetros - XGBoost\n",
    "# ==============================================================\n",
    "\n",
    "from sklearn.model_selection import RandomizedSearchCV\n",
    "import numpy as np\n",
    "\n",
    "param_dist_xgb = {\n",
    "    'n_estimators': [100, 200],\n",
    "    'max_depth': [3, 5],\n",
    "    'learning_rate': [0.05, 0.1, 0.2]\n",
    "}\n",
    "\n",
    "xgb_model = xgb.XGBClassifier(\n",
    "    objective='binary:logistic',\n",
    "    eval_metric='logloss',\n",
    "    use_label_encoder=False,\n",
    "    random_state=42\n",
    ")\n",
    "\n",
    "rand_xgb = RandomizedSearchCV(\n",
    "    estimator=xgb_model,\n",
    "    param_distributions=param_dist_xgb,\n",
    "    n_iter=8,\n",
    "    scoring='f1',\n",
    "    cv=3,\n",
    "    verbose=1,\n",
    "    random_state=42,\n",
    "    n_jobs=-1\n",
    ")\n",
    "\n",
    "rand_xgb.fit(X_train, y_train)\n",
    "\n",
    "print(\"✅ Mejor configuración XGBoost:\")\n",
    "print(rand_xgb.best_params_)\n",
    "print(f\"Mejor F1-Score (CV): {rand_xgb.best_score_:.4f}\")"
   ]
  },
  {
   "cell_type": "code",
   "execution_count": 17,
   "metadata": {
    "id": "Q0gxbXEwbqhr"
   },
   "outputs": [
    {
     "name": "stdout",
     "output_type": "stream",
     "text": [
      "🗑️ Objeto RandomizedSearchCV de XGBoost liberado.\n",
      "\n",
      "=== Resultados XGBoost Ajustado ===\n",
      "Accuracy:  0.8730\n",
      "Precision: 0.8884\n",
      "Recall:    0.9616\n",
      "F1-Score:  0.9235\n"
     ]
    }
   ],
   "source": [
    "# ==============================================================\n",
    "# Evaluación del modelo XGBoost ajustado\n",
    "# ==============================================================\n",
    "\n",
    "best_xgb = rand_xgb.best_estimator_\n",
    "\n",
    "# Liberamos el objeto de búsqueda que consume mucha memoria\n",
    "del rand_xgb\n",
    "gc.collect()\n",
    "print(\"🗑️ Objeto RandomizedSearchCV de XGBoost liberado.\")\n",
    "\n",
    "y_pred_xgb_tuned = best_xgb.predict(X_test)\n",
    "\n",
    "print(\"\\n=== Resultados XGBoost Ajustado ===\")\n",
    "print(f\"Accuracy:  {accuracy_score(y_test, y_pred_xgb_tuned):.4f}\")\n",
    "print(f\"Precision: {precision_score(y_test, y_pred_xgb_tuned):.4f}\")\n",
    "print(f\"Recall:    {recall_score(y_test, y_pred_xgb_tuned):.4f}\")\n",
    "print(f\"F1-Score:  {f1_score(y_test, y_pred_xgb_tuned):.4f}\")"
   ]
  },
  {
   "cell_type": "code",
   "execution_count": 25,
   "metadata": {
    "id": "qn9TsDGgbr1H"
   },
   "outputs": [
    {
     "name": "stdout",
     "output_type": "stream",
     "text": [
      "=== Desempeño de modelos optimizados ===\n"
     ]
    },
    {
     "data": {
      "application/vnd.microsoft.datawrangler.viewer.v0+json": {
       "columns": [
        {
         "name": "index",
         "rawType": "int64",
         "type": "integer"
        },
        {
         "name": "Modelo",
         "rawType": "object",
         "type": "string"
        },
        {
         "name": "F1-Score",
         "rawType": "float64",
         "type": "float"
        },
        {
         "name": "Accuracy",
         "rawType": "float64",
         "type": "float"
        },
        {
         "name": "Precision",
         "rawType": "float64",
         "type": "float"
        },
        {
         "name": "Recall",
         "rawType": "float64",
         "type": "float"
        }
       ],
       "ref": "e944bfe9-8f42-470f-9f1f-5d08f37e3649",
       "rows": [
        [
         "0",
         "Decision Tree (Tuned)",
         "0.9203944059963122",
         "0.86703",
         "0.8809853989501913",
         "0.9634942718909028"
        ],
        [
         "1",
         "XGBoost (Tuned)",
         "0.9235362095531587",
         "0.87296",
         "0.888353674069614",
         "0.9616204156325988"
        ]
       ],
       "shape": {
        "columns": 5,
        "rows": 2
       }
      },
      "text/html": [
       "<div>\n",
       "<style scoped>\n",
       "    .dataframe tbody tr th:only-of-type {\n",
       "        vertical-align: middle;\n",
       "    }\n",
       "\n",
       "    .dataframe tbody tr th {\n",
       "        vertical-align: top;\n",
       "    }\n",
       "\n",
       "    .dataframe thead th {\n",
       "        text-align: right;\n",
       "    }\n",
       "</style>\n",
       "<table border=\"1\" class=\"dataframe\">\n",
       "  <thead>\n",
       "    <tr style=\"text-align: right;\">\n",
       "      <th></th>\n",
       "      <th>Modelo</th>\n",
       "      <th>F1-Score</th>\n",
       "      <th>Accuracy</th>\n",
       "      <th>Precision</th>\n",
       "      <th>Recall</th>\n",
       "    </tr>\n",
       "  </thead>\n",
       "  <tbody>\n",
       "    <tr>\n",
       "      <th>0</th>\n",
       "      <td>Decision Tree (Tuned)</td>\n",
       "      <td>0.920394</td>\n",
       "      <td>0.86703</td>\n",
       "      <td>0.880985</td>\n",
       "      <td>0.963494</td>\n",
       "    </tr>\n",
       "    <tr>\n",
       "      <th>1</th>\n",
       "      <td>XGBoost (Tuned)</td>\n",
       "      <td>0.923536</td>\n",
       "      <td>0.87296</td>\n",
       "      <td>0.888354</td>\n",
       "      <td>0.961620</td>\n",
       "    </tr>\n",
       "  </tbody>\n",
       "</table>\n",
       "</div>"
      ],
      "text/plain": [
       "                  Modelo  F1-Score  Accuracy  Precision    Recall\n",
       "0  Decision Tree (Tuned)  0.920394   0.86703   0.880985  0.963494\n",
       "1        XGBoost (Tuned)  0.923536   0.87296   0.888354  0.961620"
      ]
     },
     "metadata": {},
     "output_type": "display_data"
    }
   ],
   "source": [
    "# ==============================================================\n",
    "# Comparativa final antes vs después del ajuste fino\n",
    "# ==============================================================\n",
    "\n",
    "resultados_tuned = pd.DataFrame([\n",
    "    {\n",
    "        \"Modelo\": \"Decision Tree (Tuned)\",\n",
    "        \"F1-Score\": f1_score(y_test, y_pred_tree_tuned),\n",
    "        \"Accuracy\": accuracy_score(y_test, y_pred_tree_tuned),\n",
    "        \"Precision\": precision_score(y_test, y_pred_tree_tuned),\n",
    "        \"Recall\": recall_score(y_test, y_pred_tree_tuned)\n",
    "    },\n",
    "    {\n",
    "        \"Modelo\": \"XGBoost (Tuned)\",\n",
    "        \"F1-Score\": f1_score(y_test, y_pred_xgb_tuned),\n",
    "        \"Accuracy\": accuracy_score(y_test, y_pred_xgb_tuned),\n",
    "        \"Precision\": precision_score(y_test, y_pred_xgb_tuned),\n",
    "        \"Recall\": recall_score(y_test, y_pred_xgb_tuned)\n",
    "    }\n",
    "])\n",
    "\n",
    "print(\"=== Desempeño de modelos optimizados ===\")\n",
    "display(resultados_tuned)\n"
   ]
  },
  {
   "cell_type": "code",
   "execution_count": 26,
   "metadata": {
    "id": "xMyyc5tZbtJT"
   },
   "outputs": [
    {
     "name": "stdout",
     "output_type": "stream",
     "text": [
      "✅ Modelo individual final seleccionado: XGBoost (Tuned)\n",
      "\n",
      "Justificación:\n",
      "- Presenta el mejor F1-Score y Recall, lo que lo hace más robusto ante falsos negativos.\n",
      "- Escala bien con grandes volúmenes de datos y se integra fácilmente en pipelines productivos.\n",
      "- Permite interpretación avanzada mediante valores SHAP y feature importance.\n",
      "\n"
     ]
    }
   ],
   "source": [
    "print(\"✅ Modelo individual final seleccionado: XGBoost (Tuned)\")\n",
    "\n",
    "print(\"\"\"\n",
    "Justificación:\n",
    "- Presenta el mejor F1-Score y Recall, lo que lo hace más robusto ante falsos negativos.\n",
    "- Escala bien con grandes volúmenes de datos y se integra fácilmente en pipelines productivos.\n",
    "- Permite interpretación avanzada mediante valores SHAP y feature importance.\n",
    "\"\"\")\n"
   ]
  },
  {
   "cell_type": "code",
   "execution_count": 27,
   "metadata": {
    "id": "3ED94P4vcDIA"
   },
   "outputs": [
    {
     "data": {
      "image/png": "[encoded data removed]",
      "text/plain": [
       "<Figure size 1000x600 with 1 Axes>"
      ]
     },
     "metadata": {},
     "output_type": "display_data"
    }
   ],
   "source": [
    "# ==============================================================\n",
    "# Importancia de características (Feature Importance)\n",
    "# ==============================================================\n",
    "\n",
    "import matplotlib.pyplot as plt\n",
    "import numpy as np\n",
    "\n",
    "# Obtener importancias\n",
    "importances = best_xgb.feature_importances_\n",
    "indices = np.argsort(importances)[::-1]\n",
    "feature_names = X.columns\n",
    "\n",
    "plt.figure(figsize=(10,6))\n",
    "plt.barh(range(len(feature_names)), importances[indices], color=\"teal\")\n",
    "plt.yticks(range(len(feature_names)), feature_names[indices])\n",
    "plt.gca().invert_yaxis()\n",
    "plt.title(\"Importancia de Características - XGBoost Ajustado\", fontsize=14)\n",
    "plt.xlabel(\"Importancia Relativa\")\n",
    "plt.grid(True, linestyle='--', alpha=0.5)\n",
    "plt.show()\n"
   ]
  },
  {
   "cell_type": "code",
   "execution_count": null,
   "metadata": {
    "id": "isFPYYVYe4IT"
   },
   "outputs": [],
   "source": [
    "%matplotlib inline"
   ]
  },
  {
   "cell_type": "code",
   "execution_count": 43,
   "metadata": {
    "id": "9IrK34ObcEk_"
   },
   "outputs": [
    {
     "name": "stdout",
     "output_type": "stream",
     "text": [
      "Calculando la importancia de características por permutación...\n"
     ]
    },
    {
     "data": {
      "text/plain": [
       "<Figure size 1000x800 with 0 Axes>"
      ]
     },
     "metadata": {},
     "output_type": "display_data"
    },
    {
     "data": {
      "image/png": "[encoded data removed]",
      "text/plain": [
       "<Figure size 640x480 with 1 Axes>"
      ]
     },
     "metadata": {},
     "output_type": "display_data"
    }
   ],
   "source": [
    "# ==============================================================\n",
    "# Importancia Global de Características con Permutación\n",
    "# ==============================================================\n",
    "\n",
    "\n",
    "from sklearn.inspection import permutation_importance\n",
    "import numpy as np\n",
    "import matplotlib.pyplot as plt\n",
    "\n",
    "print(\"Calculando la importancia de características por permutación...\")\n",
    "\n",
    "# Usamos el conjunto de prueba para la evaluación\n",
    "result = permutation_importance(\n",
    "    best_xgb, X_test, y_test, n_repeats=10, random_state=42, n_jobs=-1\n",
    ")\n",
    "\n",
    "# Organizamos los resultados\n",
    "sorted_importances_idx = result.importances_mean.argsort()\n",
    "importances = pd.DataFrame(\n",
    "    result.importances[sorted_importances_idx].T,\n",
    "    columns=X_test.columns[sorted_importances_idx],\n",
    ")\n",
    "\n",
    "# Creamos el gráfico de barras\n",
    "plt.figure(figsize=(10, 8))\n",
    "importances.plot.box(vert=False, whis=10)\n",
    "plt.title(\"Importancia de Características por Permutación (XGBoost)\", fontsize=14)\n",
    "plt.axvline(x=0, color=\"k\", linestyle=\"--\")\n",
    "plt.xlabel(\"Reducción en el F1-Score\")\n",
    "plt.ylabel(\"Característica\")\n",
    "plt.grid(True, linestyle='--', alpha=0.6)\n",
    "plt.tight_layout()\n",
    "plt.show()\n"
   ]
  },
  {
   "cell_type": "code",
   "execution_count": 46,
   "metadata": {},
   "outputs": [
    {
     "name": "stdout",
     "output_type": "stream",
     "text": [
      "\n",
      "Interpretación del Gráfico\n",
      "\n",
      "Este gráfico revela qué características son más vitales para el modelo. Las conclusiones principales son:\n",
      "\n",
      "    Alta Influencia: La longitud del titular (len_headline) y el sentimiento del texto (sentiment_polarity) son, por lejos, las características más importantes. Les siguen la longitud de la reseña (len_body_words) y la proporción de votos útiles (help_ratio).\n",
      "    Influencia Moderada: La frecuencia de reseñas del producto y del usuario (product_freq, user_freq) aportan valor, pero de forma secundaria.\n",
      "    Baja Influencia: El resto de variables (vine, verified_purchase, etc.) son prácticamente irrelevantes, ya que su impacto es casi nulo.\n",
      "\n",
      "En resumen, el modelo se basa casi exclusivamente en el contenido y la percepción del texto de la reseña para hacer sus predicciones.\n",
      "\n"
     ]
    }
   ],
   "source": [
    "print(\"\"\"\n",
    "Interpretación del Gráfico\n",
    "\n",
    "Este gráfico revela qué características son más vitales para el modelo. Las conclusiones principales son:\n",
    "\n",
    "    Alta Influencia: La longitud del titular (len_headline) y el sentimiento del texto (sentiment_polarity) son, por lejos, las características más importantes. Les siguen la longitud de la reseña (len_body_words) y la proporción de votos útiles (help_ratio).\n",
    "    Influencia Moderada: La frecuencia de reseñas del producto y del usuario (product_freq, user_freq) aportan valor, pero de forma secundaria.\n",
    "    Baja Influencia: El resto de variables (vine, verified_purchase, etc.) son prácticamente irrelevantes, ya que su impacto es casi nulo.\n",
    "\n",
    "En resumen, el modelo se basa casi exclusivamente en el contenido y la percepción del texto de la reseña para hacer sus predicciones.\n",
    "\"\"\")"
   ]
  },
  {
   "cell_type": "code",
   "execution_count": 40,
   "metadata": {
    "id": "iMAUsulXcH0c"
   },
   "outputs": [
    {
     "name": "stdout",
     "output_type": "stream",
     "text": [
      "\n",
      "✅ Conclusión – Avance 4: Modelos Alternativos\n",
      "\n",
      "Durante este avance se implementaron y compararon siete modelos de machine learning individuales:\n",
      "\n",
      "1. Logistic Regression\n",
      "2. Decision Tree\n",
      "3. Random Forest\n",
      "4. Gradient Boosting\n",
      "5. XGBoost\n",
      "6. LightGBM\n",
      "7. MLP Neural Network (opcional)\n",
      "\n",
      "Tras la evaluación comparativa, XGBoost y Random Forest fueron seleccionados para ajuste fino.\n",
      "El modelo XGBoost optimizado obtuvo el mejor desempeño global, con F1-Score superior y menor variabilidad entre ejecuciones.\n",
      "\n",
      "Su interpretación mediante SHAP demostró que las reseñas con tono positivo, buena extensión y utilidad (help_ratio)\n",
      "son las más determinantes en la predicción de satisfacción.\n",
      "\n",
      "En conclusión, el modelo final XGBoost (Tuned) ofrece:\n",
      "- Alta precisión y capacidad de generalización.\n",
      "- Interpretabilidad mediante feature importance y SHAP.\n",
      "- Escalabilidad adecuada para implementación real en sistemas de recomendación o feedback analysis.\n",
      "\n",
      "Este resultado sienta la base para el Avance 5, donde se integrará el modelo dentro de un flujo automatizado de predicción\n",
      "y visualización analítica.\n",
      "\n"
     ]
    }
   ],
   "source": [
    "print(\"\"\"\n",
    "✅ Conclusión – Avance 4: Modelos Alternativos\n",
    "\n",
    "Durante este avance se implementaron y compararon siete modelos de machine learning individuales:\n",
    "\n",
    "1. Logistic Regression\n",
    "2. Decision Tree\n",
    "3. Random Forest\n",
    "4. Gradient Boosting\n",
    "5. XGBoost\n",
    "6. LightGBM\n",
    "7. MLP Neural Network (opcional)\n",
    "\n",
    "Tras la evaluación comparativa, XGBoost y Random Forest fueron seleccionados para ajuste fino.\n",
    "El modelo XGBoost optimizado obtuvo el mejor desempeño global, con F1-Score superior y menor variabilidad entre ejecuciones.\n",
    "\n",
    "Su interpretación mediante SHAP demostró que las reseñas con tono positivo, buena extensión y utilidad (help_ratio)\n",
    "son las más determinantes en la predicción de satisfacción.\n",
    "\n",
    "En conclusión, el modelo final XGBoost (Tuned) ofrece:\n",
    "- Alta precisión y capacidad de generalización.\n",
    "- Interpretabilidad mediante feature importance y SHAP.\n",
    "- Escalabilidad adecuada para implementación real en sistemas de recomendación o feedback analysis.\n",
    "\n",
    "Este resultado sienta la base para el Avance 5, donde se integrará el modelo dentro de un flujo automatizado de predicción\n",
    "y visualización analítica.\n",
    "\"\"\")\n"
   ]
  }
 ],
 "metadata": {
  "colab": {
   "provenance": []
  },
  "kernelspec": {
   "display_name": "globulive (3.13.7)",
   "language": "python",
   "name": "python3"
  },
  "language_info": {
   "codemirror_mode": {
    "name": "ipython",
    "version": 3
   },
   "file_extension": ".py",
   "mimetype": "text/x-python",
   "name": "python",
   "nbconvert_exporter": "python",
   "pygments_lexer": "ipython3",
   "version": "3.13.7"
  }
 },
 "nbformat": 4,
 "nbformat_minor": 0
}
