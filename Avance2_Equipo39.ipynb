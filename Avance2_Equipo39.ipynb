{
  "cells": [
    {
      "cell_type": "markdown",
      "metadata": {
        "id": "cmPxhlflIz12"
      },
      "source": [
        "# Avance 2. Ingeniería de características"
      ]
    },
    {
      "cell_type": "markdown",
      "metadata": {
        "id": "v3wOl2V6I_sY"
      },
      "source": [
        "Curso: Proyecto integrador\n",
        "Título del proyecto:"
      ]
    },
    {
      "cell_type": "markdown",
      "metadata": {
        "id": "5QaT7En7I83t"
      },
      "source": [
        "*   A01321600  Ignacio Moreda Rovirosa\n",
        "*   A01795095\t Enma Beatriz Galindo Arango\n",
        "*   A00826769\t Gustavo Adolfo Benitez Leonés"
      ]
    },
    {
      "cell_type": "code",
      "execution_count": null,
      "metadata": {
        "colab": {
          "base_uri": "https://localhost:8080/"
        },
        "id": "rS3EvDFyG1iD",
        "outputId": "268252b8-48f2-47ad-e07b-f3a3799fc6b9"
      },
      "outputs": [],
      "source": [
        "from google.colab import drive\n",
        "drive.mount('/content/drive')"
      ]
    },
    {
      "cell_type": "code",
      "execution_count": null,
      "metadata": {
        "colab": {
          "base_uri": "https://localhost:8080/"
        },
        "id": "FgttxEOgHFmg",
        "outputId": "2284280f-52fb-465c-814b-e53c5b9176f9"
      },
      "outputs": [],
      "source": [
        "import os\n",
        "DIR = \"/content/drive/MyDrive/Equipo_39_Proyecto_integrador\"\n",
        "os.makedirs(DIR, exist_ok=True)\n",
        "os.chdir(DIR)\n",
        "!pwd"
      ]
    },
    {
      "cell_type": "code",
      "execution_count": null,
      "metadata": {
        "colab": {
          "base_uri": "https://localhost:8080/",
          "height": 35
        },
        "id": "d8_fwD7EH2Hx",
        "outputId": "274e4980-a7f9-4475-db2d-6026cc75ce92"
      },
      "outputs": [],
      "source": [
        "from google.colab import files\n",
        "uploaded = files.upload()\n"
      ]
    },
    {
      "cell_type": "code",
      "execution_count": null,
      "metadata": {
        "colab": {
          "base_uri": "https://localhost:8080/",
          "height": 401
        },
        "id": "XpXvZQktH6P2",
        "outputId": "2ef8a5d5-d7c5-4e40-8562-80c68da6d9f4"
      },
      "outputs": [],
      "source": [
        "import shutil\n",
        "!mkdir -p ~/.kaggle\n",
        "shutil.move(\"kaggle.json\", \"/root/.kaggle/kaggle.json\")\n",
        "!chmod 600 /root/.kaggle/kaggle.json\n",
        "!ls -l ~/.kaggle\n"
      ]
    },
    {
      "cell_type": "code",
      "execution_count": null,
      "metadata": {
        "colab": {
          "base_uri": "https://localhost:8080/"
        },
        "id": "8yjA5kc-H-gY",
        "outputId": "75cb2d38-cd49-4792-9016-f75d74b31544"
      },
      "outputs": [],
      "source": [
        "!pip install -q kaggle\n",
        "!kaggle datasets download -d cynthiarempel/amazon-us-customer-reviews-dataset \\\n",
        "  -f amazon_reviews_us_Health_Personal_Care_v1_00.tsv \\\n",
        "  -p /content\n"
      ]
    },
    {
      "cell_type": "code",
      "execution_count": null,
      "metadata": {
        "colab": {
          "base_uri": "https://localhost:8080/"
        },
        "id": "Zzu74oJyNVY-",
        "outputId": "44003be6-16c3-4799-e994-3ac9bfad6b37"
      },
      "outputs": [],
      "source": [
        "import os, shutil, zipfile\n",
        "\n",
        "p = \"/content/amazon_reviews_us_Health_Personal_Care_v1_00.tsv\"\n",
        "\n",
        "# Verifica firma ZIP\n",
        "with open(p, \"rb\") as f:\n",
        "    sig = f.read(4)\n",
        "print(\"Firma:\", sig)\n",
        "\n",
        "# Si es ZIP (PK\\x03\\x04), renombra y extrae\n",
        "if sig == b\"PK\\x03\\x04\":\n",
        "    zpath = p + \".zip\"\n",
        "    shutil.copy(p, zpath)\n",
        "    with zipfile.ZipFile(zpath) as z:\n",
        "        print(\"Contenido del ZIP:\")\n",
        "        z.printdir()\n",
        "        z.extractall(\"/content\")  # extrae aquí\n",
        "else:\n",
        "    print(\"No es ZIP, sigue de frente.\")\n",
        "\n",
        "# Muestra lo que quedó en /content\n",
        "print(\"\\nArchivos en /content:\")\n",
        "for name in sorted(os.listdir(\"/content\")):\n",
        "    if name.lower().endswith((\".tsv\", \".zip\", \".csv\")):\n",
        "        print(\" -\", name)\n"
      ]
    },
    {
      "cell_type": "code",
      "execution_count": 14,
      "metadata": {
        "colab": {
          "base_uri": "https://localhost:8080/",
          "height": 521
        },
        "id": "J8--0hHVNl9E",
        "outputId": "9480978a-a32b-4ff1-94fa-244cb62f9b36"
      },
      "outputs": [],
      "source": [
        "# import pandas as pd\n",
        "\n",
        "# # Ajusta si el nombre interno del TSV fue distinto\n",
        "# tsv_path = \"/content/amazon_reviews_us_Health_Personal_Care_v1_00.tsv\"\n",
        "# peek = pd.read_csv(\n",
        "#     tsv_path,\n",
        "#     sep=\"\\t\",\n",
        "#     encoding=\"latin1\",\n",
        "#     nrows=5,\n",
        "#     on_bad_lines=\"skip\",\n",
        "#     engine=\"python\"  # tolerante\n",
        "# )\n",
        "# print(\"Columnas detectadas:\", list(peek.columns))\n",
        "# peek\n"
      ]
    },
    {
      "cell_type": "code",
      "execution_count": null,
      "metadata": {
        "colab": {
          "base_uri": "https://localhost:8080/",
          "height": 441
        },
        "id": "nOJW7OoGOUCO",
        "outputId": "6fc68010-63ca-46f5-bd31-ed1f59c74df6"
      },
      "outputs": [
        {
          "name": "stdout",
          "output_type": "stream",
          "text": [
            "Leídas 200,000 filas…\n",
            "Leídas 400,000 filas…\n",
            "Leídas 600,000 filas…\n",
            "Leídas 800,000 filas…\n",
            "Leídas 1,000,000 filas…\n",
            "✅ Carga OK. df.shape: (1000000, 15)\n"
          ]
        },
        {
          "data": {
            "application/vnd.microsoft.datawrangler.viewer.v0+json": {
              "columns": [
                {
                  "name": "index",
                  "rawType": "int64",
                  "type": "integer"
                },
                {
                  "name": "marketplace",
                  "rawType": "object",
                  "type": "string"
                },
                {
                  "name": "customer_id",
                  "rawType": "int64",
                  "type": "integer"
                },
                {
                  "name": "review_id",
                  "rawType": "object",
                  "type": "string"
                },
                {
                  "name": "product_id",
                  "rawType": "object",
                  "type": "string"
                },
                {
                  "name": "product_parent",
                  "rawType": "int64",
                  "type": "integer"
                },
                {
                  "name": "product_title",
                  "rawType": "object",
                  "type": "string"
                },
                {
                  "name": "product_category",
                  "rawType": "object",
                  "type": "string"
                },
                {
                  "name": "star_rating",
                  "rawType": "int64",
                  "type": "integer"
                },
                {
                  "name": "helpful_votes",
                  "rawType": "int64",
                  "type": "integer"
                },
                {
                  "name": "total_votes",
                  "rawType": "int64",
                  "type": "integer"
                },
                {
                  "name": "vine",
                  "rawType": "object",
                  "type": "string"
                },
                {
                  "name": "verified_purchase",
                  "rawType": "object",
                  "type": "string"
                },
                {
                  "name": "review_headline",
                  "rawType": "object",
                  "type": "string"
                },
                {
                  "name": "review_body",
                  "rawType": "object",
                  "type": "string"
                },
                {
                  "name": "review_date",
                  "rawType": "object",
                  "type": "string"
                }
              ],
              "ref": "f3020453-285b-4dbe-8f99-b53230d7efe8",
              "rows": [
                [
                  "0",
                  "US",
                  "650634",
                  "R3EQSTM9PWRAL",
                  "B0091LBZSU",
                  "578484426",
                  "Demograss Capsules Diet Pills Lose Weight",
                  "Health & Personal Care",
                  "3",
                  "0",
                  "0",
                  "N",
                  "Y",
                  "Three Stars",
                  "Only came with 30 pills I wish it would've came with at least 50",
                  "2015-08-31"
                ],
                [
                  "1",
                  "US",
                  "19827510",
                  "RBWPRK17XKIXD",
                  "B00PWW3LQ6",
                  "456433146",
                  "Viva Labs #1 Premium Himalayan Organic Goji Berries, Noticeably Larger and Juicier",
                  "Health & Personal Care",
                  "5",
                  "0",
                  "0",
                  "N",
                  "Y",
                  "A good portable snack",
                  "Really yummy and healthy.  A good portable snack.",
                  "2015-08-31"
                ],
                [
                  "2",
                  "US",
                  "1520474",
                  "RRSLOAF273XFC",
                  "B00DKEWA92",
                  "460764511",
                  "Whip-it Cleaner",
                  "Health & Personal Care",
                  "5",
                  "1",
                  "2",
                  "N",
                  "Y",
                  "You need this",
                  "You cannot go wrong with this stuff. I use it in my laundry & my carpet steamer and also just for general cleaning in my kitchen and bathroom. I have 3 dogs and this keeps my creme colored carpets looking new. Also works great as a deodorizer in my air washer. Buy it!",
                  "2015-08-31"
                ]
              ],
              "shape": {
                "columns": 15,
                "rows": 3
              }
            },
            "text/html": [
              "<div>\n",
              "<style scoped>\n",
              "    .dataframe tbody tr th:only-of-type {\n",
              "        vertical-align: middle;\n",
              "    }\n",
              "\n",
              "    .dataframe tbody tr th {\n",
              "        vertical-align: top;\n",
              "    }\n",
              "\n",
              "    .dataframe thead th {\n",
              "        text-align: right;\n",
              "    }\n",
              "</style>\n",
              "<table border=\"1\" class=\"dataframe\">\n",
              "  <thead>\n",
              "    <tr style=\"text-align: right;\">\n",
              "      <th></th>\n",
              "      <th>marketplace</th>\n",
              "      <th>customer_id</th>\n",
              "      <th>review_id</th>\n",
              "      <th>product_id</th>\n",
              "      <th>product_parent</th>\n",
              "      <th>product_title</th>\n",
              "      <th>product_category</th>\n",
              "      <th>star_rating</th>\n",
              "      <th>helpful_votes</th>\n",
              "      <th>total_votes</th>\n",
              "      <th>vine</th>\n",
              "      <th>verified_purchase</th>\n",
              "      <th>review_headline</th>\n",
              "      <th>review_body</th>\n",
              "      <th>review_date</th>\n",
              "    </tr>\n",
              "  </thead>\n",
              "  <tbody>\n",
              "    <tr>\n",
              "      <th>0</th>\n",
              "      <td>US</td>\n",
              "      <td>650634</td>\n",
              "      <td>R3EQSTM9PWRAL</td>\n",
              "      <td>B0091LBZSU</td>\n",
              "      <td>578484426</td>\n",
              "      <td>Demograss Capsules Diet Pills Lose Weight</td>\n",
              "      <td>Health &amp; Personal Care</td>\n",
              "      <td>3</td>\n",
              "      <td>0</td>\n",
              "      <td>0</td>\n",
              "      <td>N</td>\n",
              "      <td>Y</td>\n",
              "      <td>Three Stars</td>\n",
              "      <td>Only came with 30 pills I wish it would've cam...</td>\n",
              "      <td>2015-08-31</td>\n",
              "    </tr>\n",
              "    <tr>\n",
              "      <th>1</th>\n",
              "      <td>US</td>\n",
              "      <td>19827510</td>\n",
              "      <td>RBWPRK17XKIXD</td>\n",
              "      <td>B00PWW3LQ6</td>\n",
              "      <td>456433146</td>\n",
              "      <td>Viva Labs #1 Premium Himalayan Organic Goji Be...</td>\n",
              "      <td>Health &amp; Personal Care</td>\n",
              "      <td>5</td>\n",
              "      <td>0</td>\n",
              "      <td>0</td>\n",
              "      <td>N</td>\n",
              "      <td>Y</td>\n",
              "      <td>A good portable snack</td>\n",
              "      <td>Really yummy and healthy.  A good portable snack.</td>\n",
              "      <td>2015-08-31</td>\n",
              "    </tr>\n",
              "    <tr>\n",
              "      <th>2</th>\n",
              "      <td>US</td>\n",
              "      <td>1520474</td>\n",
              "      <td>RRSLOAF273XFC</td>\n",
              "      <td>B00DKEWA92</td>\n",
              "      <td>460764511</td>\n",
              "      <td>Whip-it Cleaner</td>\n",
              "      <td>Health &amp; Personal Care</td>\n",
              "      <td>5</td>\n",
              "      <td>1</td>\n",
              "      <td>2</td>\n",
              "      <td>N</td>\n",
              "      <td>Y</td>\n",
              "      <td>You need this</td>\n",
              "      <td>You cannot go wrong with this stuff. I use it ...</td>\n",
              "      <td>2015-08-31</td>\n",
              "    </tr>\n",
              "  </tbody>\n",
              "</table>\n",
              "</div>"
            ],
            "text/plain": [
              "  marketplace  customer_id      review_id  product_id  product_parent  \\\n",
              "0          US       650634  R3EQSTM9PWRAL  B0091LBZSU       578484426   \n",
              "1          US     19827510  RBWPRK17XKIXD  B00PWW3LQ6       456433146   \n",
              "2          US      1520474  RRSLOAF273XFC  B00DKEWA92       460764511   \n",
              "\n",
              "                                       product_title        product_category  \\\n",
              "0          Demograss Capsules Diet Pills Lose Weight  Health & Personal Care   \n",
              "1  Viva Labs #1 Premium Himalayan Organic Goji Be...  Health & Personal Care   \n",
              "2                                    Whip-it Cleaner  Health & Personal Care   \n",
              "\n",
              "   star_rating  helpful_votes  total_votes vine verified_purchase  \\\n",
              "0            3              0            0    N                 Y   \n",
              "1            5              0            0    N                 Y   \n",
              "2            5              1            2    N                 Y   \n",
              "\n",
              "         review_headline                                        review_body  \\\n",
              "0            Three Stars  Only came with 30 pills I wish it would've cam...   \n",
              "1  A good portable snack  Really yummy and healthy.  A good portable snack.   \n",
              "2          You need this  You cannot go wrong with this stuff. I use it ...   \n",
              "\n",
              "  review_date  \n",
              "0  2015-08-31  \n",
              "1  2015-08-31  \n",
              "2  2015-08-31  "
            ]
          },
          "execution_count": 15,
          "metadata": {},
          "output_type": "execute_result"
        }
      ],
      "source": [
        "import pandas as pd\n",
        "\n",
        "tsv_path = \"/home/gbenitezl/Downloads/amazon_reviews_us_Health_Personal_Care_v1_00.tsv\"\n",
        "\n",
        "available = [\n",
        "    \"marketplace\",\"customer_id\",\"review_id\",\"product_id\",\"product_parent\",\n",
        "    \"product_title\",\"product_category\",\"star_rating\",\"helpful_votes\",\"total_votes\",\n",
        "    \"vine\",\"verified_purchase\",\"review_headline\",\"review_body\",\"review_date\"\n",
        "]\n",
        "\n",
        "chunksize   = 200_000\n",
        "limit_rows  = 1_000_000   # ajusta si quieres más/menos\n",
        "chunks, total = [], 0\n",
        "\n",
        "for chunk in pd.read_csv(\n",
        "    tsv_path,\n",
        "    sep=\"\\t\",\n",
        "    encoding=\"latin1\",\n",
        "    usecols=available,\n",
        "    on_bad_lines=\"skip\",\n",
        "    engine=\"python\",\n",
        "    chunksize=chunksize,\n",
        "    quoting=3\n",
        "):\n",
        "    chunks.append(chunk)\n",
        "    total += len(chunk)\n",
        "    print(f\"Leídas {total:,} filas…\")\n",
        "    if total >= limit_rows:\n",
        "        break\n",
        "\n",
        "df = pd.concat(chunks, ignore_index=True)\n",
        "print(\"✅ Carga OK. df.shape:\", df.shape)\n",
        "df.head(3)"
      ]
    },
    {
      "cell_type": "markdown",
      "metadata": {
        "id": "2BYblNSTVZZW"
      },
      "source": [
        "### 1.1) Justificación de Generación de Características (Feature Engineering)\n",
        "\n",
        "El objetivo de esta fase es enriquecer el dataset original, que consiste principalmente en texto e identificadores, con un conjunto de variables numéricas interpretables y de alto valor predictivo. Se extraen características que cuantifican diferentes dimensiones del comportamiento del usuario y de las reseñas:\n",
        "\n",
        "- **Utilidad y engagement:** Variables como `help_ratio` miden cómo la comunidad valora una reseña.\n",
        "- **Estilo y tono del texto:** Características como `len_body_words`, `excl_count` y `upper_ratio` actúan como un proxy del esfuerzo y la emoción del autor sin necesidad de un análisis NLP complejo.\n",
        "- **Temporalidad:** La variable `recency_days` introduce la dimensión del tiempo, permitiendo al modelo dar más peso a la información reciente.\n",
        "- **Popularidad:** Variables como `product_freq` y `user_freq` capturan la popularidad de los productos y la actividad de los usuarios.\n",
        "- **Análisis de Sentimiento y Contenido (NLP):** Se extrae la polaridad del sentimiento (`sentiment_polarity`) para cuantificar el tono explícito del texto, y se utiliza `TF-IDF` para convertir las palabras y frases más relevantes en características numéricas, permitiendo al modelo aprender directamente del vocabulario del cliente.\n",
        "- **Variable Objetivo:** La creación de `is_positive` transforma el problema de regresión/multiclase en una clasificación binaria, una estrategia pensada dada la distribución sesgada de `star_rating` identificada en el Avance 1."
      ]
    },
    {
      "cell_type": "code",
      "execution_count": 16,
      "metadata": {
        "colab": {
          "base_uri": "https://localhost:8080/",
          "height": 226
        },
        "id": "otiNTUerQcyc",
        "outputId": "b0c22e2c-ccfb-4983-87fe-30706620c4a7"
      },
      "outputs": [
        {
          "data": {
            "application/vnd.microsoft.datawrangler.viewer.v0+json": {
              "columns": [
                {
                  "name": "index",
                  "rawType": "int64",
                  "type": "integer"
                },
                {
                  "name": "help_ratio",
                  "rawType": "float64",
                  "type": "float"
                },
                {
                  "name": "len_body_words",
                  "rawType": "int64",
                  "type": "integer"
                },
                {
                  "name": "len_headline",
                  "rawType": "int64",
                  "type": "integer"
                },
                {
                  "name": "excl_count",
                  "rawType": "int64",
                  "type": "integer"
                },
                {
                  "name": "quest_count",
                  "rawType": "int64",
                  "type": "integer"
                },
                {
                  "name": "upper_ratio",
                  "rawType": "float64",
                  "type": "float"
                },
                {
                  "name": "year",
                  "rawType": "int32",
                  "type": "integer"
                },
                {
                  "name": "month",
                  "rawType": "int32",
                  "type": "integer"
                },
                {
                  "name": "weekday",
                  "rawType": "int32",
                  "type": "integer"
                },
                {
                  "name": "recency_days",
                  "rawType": "int64",
                  "type": "integer"
                },
                {
                  "name": "product_freq",
                  "rawType": "int64",
                  "type": "integer"
                },
                {
                  "name": "user_freq",
                  "rawType": "int64",
                  "type": "integer"
                },
                {
                  "name": "is_positive",
                  "rawType": "int64",
                  "type": "integer"
                }
              ],
              "ref": "386cd7d4-107c-40a8-b9ae-8a0cbe0bb2d0",
              "rows": [
                [
                  "0",
                  "0.0",
                  "14",
                  "11",
                  "0",
                  "0",
                  "0.043478260869565216",
                  "2015",
                  "8",
                  "0",
                  "3688",
                  "1",
                  "1",
                  "0"
                ],
                [
                  "1",
                  "0.0",
                  "8",
                  "21",
                  "0",
                  "0",
                  "0.05128205128205128",
                  "2015",
                  "8",
                  "0",
                  "3688",
                  "513",
                  "1",
                  "1"
                ],
                [
                  "2",
                  "0.3333333333333333",
                  "53",
                  "13",
                  "1",
                  "0",
                  "0.023923444976076555",
                  "2015",
                  "8",
                  "0",
                  "3688",
                  "45",
                  "1",
                  "1"
                ],
                [
                  "3",
                  "0.0",
                  "8",
                  "30",
                  "0",
                  "0",
                  "0.034482758620689655",
                  "2015",
                  "8",
                  "0",
                  "3688",
                  "18",
                  "2",
                  "1"
                ],
                [
                  "4",
                  "0.0",
                  "114",
                  "36",
                  "8",
                  "0",
                  "0.016129032258064516",
                  "2015",
                  "8",
                  "0",
                  "3688",
                  "68",
                  "1",
                  "1"
                ]
              ],
              "shape": {
                "columns": 13,
                "rows": 5
              }
            },
            "text/html": [
              "<div>\n",
              "<style scoped>\n",
              "    .dataframe tbody tr th:only-of-type {\n",
              "        vertical-align: middle;\n",
              "    }\n",
              "\n",
              "    .dataframe tbody tr th {\n",
              "        vertical-align: top;\n",
              "    }\n",
              "\n",
              "    .dataframe thead th {\n",
              "        text-align: right;\n",
              "    }\n",
              "</style>\n",
              "<table border=\"1\" class=\"dataframe\">\n",
              "  <thead>\n",
              "    <tr style=\"text-align: right;\">\n",
              "      <th></th>\n",
              "      <th>help_ratio</th>\n",
              "      <th>len_body_words</th>\n",
              "      <th>len_headline</th>\n",
              "      <th>excl_count</th>\n",
              "      <th>quest_count</th>\n",
              "      <th>upper_ratio</th>\n",
              "      <th>year</th>\n",
              "      <th>month</th>\n",
              "      <th>weekday</th>\n",
              "      <th>recency_days</th>\n",
              "      <th>product_freq</th>\n",
              "      <th>user_freq</th>\n",
              "      <th>is_positive</th>\n",
              "    </tr>\n",
              "  </thead>\n",
              "  <tbody>\n",
              "    <tr>\n",
              "      <th>0</th>\n",
              "      <td>0.000000</td>\n",
              "      <td>14</td>\n",
              "      <td>11</td>\n",
              "      <td>0</td>\n",
              "      <td>0</td>\n",
              "      <td>0.043478</td>\n",
              "      <td>2015</td>\n",
              "      <td>8</td>\n",
              "      <td>0</td>\n",
              "      <td>3688</td>\n",
              "      <td>1</td>\n",
              "      <td>1</td>\n",
              "      <td>0</td>\n",
              "    </tr>\n",
              "    <tr>\n",
              "      <th>1</th>\n",
              "      <td>0.000000</td>\n",
              "      <td>8</td>\n",
              "      <td>21</td>\n",
              "      <td>0</td>\n",
              "      <td>0</td>\n",
              "      <td>0.051282</td>\n",
              "      <td>2015</td>\n",
              "      <td>8</td>\n",
              "      <td>0</td>\n",
              "      <td>3688</td>\n",
              "      <td>513</td>\n",
              "      <td>1</td>\n",
              "      <td>1</td>\n",
              "    </tr>\n",
              "    <tr>\n",
              "      <th>2</th>\n",
              "      <td>0.333333</td>\n",
              "      <td>53</td>\n",
              "      <td>13</td>\n",
              "      <td>1</td>\n",
              "      <td>0</td>\n",
              "      <td>0.023923</td>\n",
              "      <td>2015</td>\n",
              "      <td>8</td>\n",
              "      <td>0</td>\n",
              "      <td>3688</td>\n",
              "      <td>45</td>\n",
              "      <td>1</td>\n",
              "      <td>1</td>\n",
              "    </tr>\n",
              "    <tr>\n",
              "      <th>3</th>\n",
              "      <td>0.000000</td>\n",
              "      <td>8</td>\n",
              "      <td>30</td>\n",
              "      <td>0</td>\n",
              "      <td>0</td>\n",
              "      <td>0.034483</td>\n",
              "      <td>2015</td>\n",
              "      <td>8</td>\n",
              "      <td>0</td>\n",
              "      <td>3688</td>\n",
              "      <td>18</td>\n",
              "      <td>2</td>\n",
              "      <td>1</td>\n",
              "    </tr>\n",
              "    <tr>\n",
              "      <th>4</th>\n",
              "      <td>0.000000</td>\n",
              "      <td>114</td>\n",
              "      <td>36</td>\n",
              "      <td>8</td>\n",
              "      <td>0</td>\n",
              "      <td>0.016129</td>\n",
              "      <td>2015</td>\n",
              "      <td>8</td>\n",
              "      <td>0</td>\n",
              "      <td>3688</td>\n",
              "      <td>68</td>\n",
              "      <td>1</td>\n",
              "      <td>1</td>\n",
              "    </tr>\n",
              "  </tbody>\n",
              "</table>\n",
              "</div>"
            ],
            "text/plain": [
              "   help_ratio  len_body_words  len_headline  excl_count  quest_count  \\\n",
              "0    0.000000              14            11           0            0   \n",
              "1    0.000000               8            21           0            0   \n",
              "2    0.333333              53            13           1            0   \n",
              "3    0.000000               8            30           0            0   \n",
              "4    0.000000             114            36           8            0   \n",
              "\n",
              "   upper_ratio  year  month  weekday  recency_days  product_freq  user_freq  \\\n",
              "0     0.043478  2015      8        0          3688             1          1   \n",
              "1     0.051282  2015      8        0          3688           513          1   \n",
              "2     0.023923  2015      8        0          3688            45          1   \n",
              "3     0.034483  2015      8        0          3688            18          2   \n",
              "4     0.016129  2015      8        0          3688            68          1   \n",
              "\n",
              "   is_positive  \n",
              "0            0  \n",
              "1            1  \n",
              "2            1  \n",
              "3            1  \n",
              "4            1  "
            ]
          },
          "execution_count": 16,
          "metadata": {},
          "output_type": "execute_result"
        }
      ],
      "source": [
        "import numpy as np, re\n",
        "import pandas as pd\n",
        "\n",
        "# Asegura tipos básicos\n",
        "df[\"review_date\"] = pd.to_datetime(df[\"review_date\"], errors=\"coerce\")\n",
        "for c in [\"product_title\",\"review_headline\",\"review_body\",\"product_category\"]:\n",
        "    df[c] = df[c].fillna(\"\")\n",
        "for c in [\"helpful_votes\",\"total_votes\",\"star_rating\"]:\n",
        "    df[c] = pd.to_numeric(df[c], errors=\"coerce\")\n",
        "df[\"verified_purchase\"] = (df[\"verified_purchase\"].astype(str).str.upper()==\"Y\").astype(int)\n",
        "df[\"vine\"]              = (df[\"vine\"].astype(str).str.upper()==\"Y\").astype(int)\n",
        "df = df.dropna(subset=[\"star_rating\",\"review_date\"]).reset_index(drop=True)\n",
        "\n",
        "# 1) Utilidad\n",
        "df[\"help_ratio\"] = df[\"helpful_votes\"] / (df[\"total_votes\"] + 1)\n",
        "\n",
        "# 2) Complejidad / tono del texto\n",
        "df[\"len_body_words\"] = df[\"review_body\"].str.split().apply(len)\n",
        "df[\"len_headline\"]   = df[\"review_headline\"].str.len()\n",
        "df[\"excl_count\"]     = df[\"review_body\"].str.count(\"!\")\n",
        "df[\"quest_count\"]    = df[\"review_body\"].str.count(r\"\\?\")\n",
        "\n",
        "def upper_ratio(s):\n",
        "    s = re.sub(r\"[^A-Za-z]\", \"\", s or \"\")\n",
        "    return (sum(1 for ch in s if ch.isupper()) / max(len(s),1)) if s else 0\n",
        "df[\"upper_ratio\"] = df[\"review_body\"].apply(upper_ratio)\n",
        "\n",
        "# 3) Temporalidad\n",
        "df[\"year\"]     = df[\"review_date\"].dt.year\n",
        "df[\"month\"]    = df[\"review_date\"].dt.month\n",
        "df[\"weekday\"]  = df[\"review_date\"].dt.weekday\n",
        "df[\"recency_days\"] = (pd.Timestamp.today().normalize() - df[\"review_date\"]).dt.days.clip(lower=0)\n",
        "\n",
        "# 4) Popularidad / cardinalidad controlada\n",
        "prod_freq = df[\"product_id\"].value_counts()\n",
        "user_freq = df[\"customer_id\"].value_counts()\n",
        "df[\"product_freq\"] = df[\"product_id\"].map(prod_freq)\n",
        "df[\"user_freq\"]    = df[\"customer_id\"].map(user_freq)\n",
        "\n",
        "# 5) Etiqueta auxiliar (clasificación)\n",
        "df[\"is_positive\"] = (df[\"star_rating\"] >= 4).astype(int)\n",
        "\n",
        "df[[\n",
        "  \"help_ratio\",\"len_body_words\",\"len_headline\",\"excl_count\",\"quest_count\",\"upper_ratio\",\n",
        "  \"year\",\"month\",\"weekday\",\"recency_days\",\"product_freq\",\"user_freq\",\"is_positive\"\n",
        "]].head()\n"
      ]
    },
    {
      "cell_type": "code",
      "execution_count": 17,
      "metadata": {},
      "outputs": [],
      "source": [
        "from textblob import TextBlob\n",
        "from sklearn.feature_extraction.text import TfidfVectorizer"
      ]
    },
    {
      "cell_type": "code",
      "execution_count": 18,
      "metadata": {},
      "outputs": [
        {
          "name": "stdout",
          "output_type": "stream",
          "text": [
            "Generando características de NLP (Sentimiento y TF-IDF)\n",
            "Calculando polaridad del sentimiento con TextBlob...\n",
            "Cálculo de sentimiento finalizado.\n"
          ]
        }
      ],
      "source": [
        "print(\"Generando características de NLP (Sentimiento y TF-IDF)\")\n",
        "print(\"Calculando polaridad del sentimiento con TextBlob...\")\n",
        "df['sentiment_polarity'] = df['review_body'].apply(lambda x: TextBlob(x).sentiment.polarity)\n",
        "print(\"Cálculo de sentimiento finalizado.\")"
      ]
    },
    {
      "cell_type": "code",
      "execution_count": 19,
      "metadata": {},
      "outputs": [
        {
          "name": "stdout",
          "output_type": "stream",
          "text": [
            "Vectorizando texto con TF-IDF (top 200 features)...\n",
            "Características TF-IDF unidas al DataFrame.\n"
          ]
        }
      ],
      "source": [
        "# TF-IDF para capturar palabras clave. Limitamos a 200 features para mantener manejable el dataset.\n",
        "print(\"Vectorizando texto con TF-IDF (top 200 features)...\")\n",
        "tfidf = TfidfVectorizer(max_features=200, stop_words='english', ngram_range=(1, 2))\n",
        "X_text_tfidf = tfidf.fit_transform(df['review_body'])\n",
        "\n",
        "# Convertir la matriz dispersa de TF-IDF a un DataFrame y añadir prefijo a las columnas\n",
        "tfidf_df = pd.DataFrame(X_text_tfidf.toarray(), columns=[f\"tfidf_{name}\" for name in tfidf.get_feature_names_out()])\n",
        "\n",
        "# Unir las nuevas características de TF-IDF al DataFrame principal\n",
        "df = pd.concat([df.reset_index(drop=True), tfidf_df], axis=1)\n",
        "print(\"Características TF-IDF unidas al DataFrame.\")"
      ]
    },
    {
      "cell_type": "markdown",
      "metadata": {
        "id": "6W3-_5K9VV9m"
      },
      "source": [
        "### 2) Justificación de Discretización\n",
        "\n",
        "La discretización mediante `pd.qcut` en cinco cuantiles (quintiles) se realiza principalmente con fines exploratorios y para modelos que manejan mejor las variables categóricas. Esta técnica agrupa variables continuas en un número reducido de bins de igual frecuencia."
      ]
    },
    {
      "cell_type": "code",
      "execution_count": 20,
      "metadata": {
        "colab": {
          "base_uri": "https://localhost:8080/",
          "height": 206
        },
        "id": "_Ne-CPlWQqRy",
        "outputId": "34c17390-aecf-42e1-b9da-32e21f0f99c5"
      },
      "outputs": [
        {
          "data": {
            "application/vnd.microsoft.datawrangler.viewer.v0+json": {
              "columns": [
                {
                  "name": "index",
                  "rawType": "int64",
                  "type": "integer"
                },
                {
                  "name": "len_body_words",
                  "rawType": "int64",
                  "type": "integer"
                },
                {
                  "name": "len_body_bin",
                  "rawType": "int64",
                  "type": "integer"
                },
                {
                  "name": "help_ratio",
                  "rawType": "float64",
                  "type": "float"
                },
                {
                  "name": "help_ratio_bin",
                  "rawType": "int64",
                  "type": "integer"
                }
              ],
              "ref": "36318cb1-0a65-4533-bf03-2cf62104bbd5",
              "rows": [
                [
                  "0",
                  "14",
                  "2",
                  "0.0",
                  "0"
                ],
                [
                  "1",
                  "8",
                  "1",
                  "0.0",
                  "0"
                ],
                [
                  "2",
                  "53",
                  "4",
                  "0.3333333333333333",
                  "0"
                ],
                [
                  "3",
                  "8",
                  "1",
                  "0.0",
                  "0"
                ],
                [
                  "4",
                  "114",
                  "4",
                  "0.0",
                  "0"
                ]
              ],
              "shape": {
                "columns": 4,
                "rows": 5
              }
            },
            "text/html": [
              "<div>\n",
              "<style scoped>\n",
              "    .dataframe tbody tr th:only-of-type {\n",
              "        vertical-align: middle;\n",
              "    }\n",
              "\n",
              "    .dataframe tbody tr th {\n",
              "        vertical-align: top;\n",
              "    }\n",
              "\n",
              "    .dataframe thead th {\n",
              "        text-align: right;\n",
              "    }\n",
              "</style>\n",
              "<table border=\"1\" class=\"dataframe\">\n",
              "  <thead>\n",
              "    <tr style=\"text-align: right;\">\n",
              "      <th></th>\n",
              "      <th>len_body_words</th>\n",
              "      <th>len_body_bin</th>\n",
              "      <th>help_ratio</th>\n",
              "      <th>help_ratio_bin</th>\n",
              "    </tr>\n",
              "  </thead>\n",
              "  <tbody>\n",
              "    <tr>\n",
              "      <th>0</th>\n",
              "      <td>14</td>\n",
              "      <td>2</td>\n",
              "      <td>0.000000</td>\n",
              "      <td>0</td>\n",
              "    </tr>\n",
              "    <tr>\n",
              "      <th>1</th>\n",
              "      <td>8</td>\n",
              "      <td>1</td>\n",
              "      <td>0.000000</td>\n",
              "      <td>0</td>\n",
              "    </tr>\n",
              "    <tr>\n",
              "      <th>2</th>\n",
              "      <td>53</td>\n",
              "      <td>4</td>\n",
              "      <td>0.333333</td>\n",
              "      <td>0</td>\n",
              "    </tr>\n",
              "    <tr>\n",
              "      <th>3</th>\n",
              "      <td>8</td>\n",
              "      <td>1</td>\n",
              "      <td>0.000000</td>\n",
              "      <td>0</td>\n",
              "    </tr>\n",
              "    <tr>\n",
              "      <th>4</th>\n",
              "      <td>114</td>\n",
              "      <td>4</td>\n",
              "      <td>0.000000</td>\n",
              "      <td>0</td>\n",
              "    </tr>\n",
              "  </tbody>\n",
              "</table>\n",
              "</div>"
            ],
            "text/plain": [
              "   len_body_words  len_body_bin  help_ratio  help_ratio_bin\n",
              "0              14             2    0.000000               0\n",
              "1               8             1    0.000000               0\n",
              "2              53             4    0.333333               0\n",
              "3               8             1    0.000000               0\n",
              "4             114             4    0.000000               0"
            ]
          },
          "execution_count": 20,
          "metadata": {},
          "output_type": "execute_result"
        }
      ],
      "source": [
        "df[\"len_body_bin\"]    = pd.qcut(df[\"len_body_words\"], q=5, labels=False, duplicates=\"drop\")\n",
        "df[\"help_ratio_bin\"]  = pd.qcut(df[\"help_ratio\"].fillna(0), q=5, labels=False, duplicates=\"drop\")\n",
        "df[\"recency_bin\"]     = pd.qcut(df[\"recency_days\"], q=5, labels=False, duplicates=\"drop\")\n",
        "df[\"product_freq_bin\"]= pd.qcut(df[\"product_freq\"], q=5, labels=False, duplicates=\"drop\")\n",
        "df[\"user_freq_bin\"]   = pd.qcut(df[\"user_freq\"], q=5, labels=False, duplicates=\"drop\")\n",
        "\n",
        "df[[\"len_body_words\",\"len_body_bin\",\"help_ratio\",\"help_ratio_bin\"]].head()"
      ]
    },
    {
      "cell_type": "markdown",
      "metadata": {
        "id": "gcZ5_G9HVTDr"
      },
      "source": [
        "### 3) Justificación de Codificación, Imputación y Escalamiento\n",
        "\n",
        "Para que el dataset sea compatible con los algoritmos de machine learning, es importante un preprocesamiento exhaustivo. \n",
        "\n",
        "- **Reducción de Cardinalidad:** Se aplica una estrategia Top-N a la variable `product_category` para agrupar las categorías menos frecuentes en \"Other\". Esto controla la dimensionalidad resultante del One-Hot Encoding y evita que el modelo memorice categorías raras.\n",
        "- **Imputación de Valores Faltantes:** Se utiliza `SimpleImputer` con la estrategia de la mediana para rellenar posibles valores nulos en las variables numéricas. La mediana es robusta ante outliers, lo cual es relevante dadas las distribuciones asimétricas observadas en el EDA.\n",
        "- **Codificación One-Hot:** Las variables categóricas de baja cardinalidad (`marketplace`, `vine`, etc.) se transforman en vectores binarios mediante `OneHotEncoder`. Esto evita que el modelo asuma una relación ordinal inexistente entre las categorías.\n",
        "- **Escalamiento (Estandarización):** Todas las características numéricas (incluidas las generadas por TF-IDF) se escalan con `StandardScaler`. Este paso es crucial para algoritmos sensibles a la escala de las características, como PCA, SVM o redes neuronales, garantizando que todas las variables contribuyan equitativamente al modelo al tener una media de 0 y una desviación estándar de 1."
      ]
    },
    {
      "cell_type": "code",
      "execution_count": null,
      "metadata": {
        "colab": {
          "base_uri": "https://localhost:8080/"
        },
        "id": "CV9klR5RTaad",
        "outputId": "841e603d-3f22-4ce4-ea02-c331eae9b4dd"
      },
      "outputs": [],
      "source": [
        "from sklearn.preprocessing import OneHotEncoder, StandardScaler\n",
        "from sklearn.compose import ColumnTransformer\n",
        "from sklearn.pipeline import Pipeline\n",
        "from sklearn.impute import SimpleImputer\n",
        "\n",
        "# (Opcional) Reducir cardinalidad de product_category a Top-N + Other\n",
        "N = 50\n",
        "topN = df[\"product_category\"].value_counts().nlargest(N).index\n",
        "df[\"product_category_top\"] = df[\"product_category\"].where(df[\"product_category\"].isin(topN), \"Other\")\n",
        "\n",
        "num_feats_base = [\n",
        "    \"help_ratio\", \"len_body_words\", \"len_headline\", \"upper_ratio\", \"recency_days\",\n",
        "    \"product_freq\", \"user_freq\", \"sentiment_polarity\"\n",
        "]\n",
        "\n",
        "cat_feats = [\"marketplace\", \"product_category_top\", \"vine\", \"verified_purchase\"]\n",
        "\n",
        "tfidf_feats = [col for col in df.columns if col.startswith('tfidf_')] # Las características TF-IDF ya son numéricas y no necesitan codificación\n",
        "\n",
        "all_numeric_features = num_feats_base + tfidf_feats\n"
      ]
    },
    {
      "cell_type": "code",
      "execution_count": 31,
      "metadata": {},
      "outputs": [],
      "source": [
        "numeric_transformer = Pipeline(steps=[\n",
        "    ('imputer', SimpleImputer(strategy='median')),\n",
        "    ('scaler', StandardScaler())\n",
        "])\n",
        "\n",
        "categorical_transformer = Pipeline(steps=[\n",
        "    ('onehot', OneHotEncoder(handle_unknown='ignore', sparse_output=False))\n",
        "])\n",
        "\n",
        "preprocessor = ColumnTransformer(\n",
        "    transformers=[\n",
        "        ('num', numeric_transformer, all_numeric_features),\n",
        "        ('cat', categorical_transformer, cat_feats)\n",
        "    ],\n",
        "    remainder='drop'\n",
        ")"
      ]
    },
    {
      "cell_type": "code",
      "execution_count": 32,
      "metadata": {},
      "outputs": [],
      "source": [
        "X_processed = preprocessor.fit_transform(df)"
      ]
    },
    {
      "cell_type": "code",
      "execution_count": 33,
      "metadata": {},
      "outputs": [
        {
          "name": "stdout",
          "output_type": "stream",
          "text": [
            "Procesamiento finalizado. Dimensiones de la matriz de características final: (1000000, 214)\n"
          ]
        }
      ],
      "source": [
        "print(f\"Procesamiento finalizado. Dimensiones de la matriz de características final: {X_processed.shape}\")"
      ]
    },
    {
      "cell_type": "markdown",
      "metadata": {
        "id": "OkwxnkNDX0kg"
      },
      "source": [
        "### 4) Justificación de Transformaciones de Potencia\n",
        "\n",
        "Como se identificó en el Avance 1, variables como `helpful_votes` y `len_body_words` presentan una asimetría y curtosis extremas (colas muy largas). Las transformaciones de potencia, como la logarítmica (`log1p`) o la de Yeo-Johnson, son técnicas efectivas para mitigar este problema.\n",
        "\n",
        "**Objetivos:**\n",
        "- **Reducir la asimetría:** Acercan la distribución de la variable a una forma más simétrica, similar a la normal.\n",
        "- **Estabilizar la varianza:** Reducen la influencia de los valores extremos (outliers).\n",
        "- **Mejorar el rendimiento del modelo:** Ciertos modelos, especialmente los lineales, asumen normalidad en los predictores y su rendimiento mejora significativamente con datos transformados."
      ]
    },
    {
      "cell_type": "code",
      "execution_count": 34,
      "metadata": {
        "colab": {
          "base_uri": "https://localhost:8080/",
          "height": 175
        },
        "id": "d1MAdYmITwtH",
        "outputId": "1b71267d-e57c-4ebe-93b6-f7772d099705"
      },
      "outputs": [
        {
          "data": {
            "application/vnd.microsoft.datawrangler.viewer.v0+json": {
              "columns": [
                {
                  "name": "index",
                  "rawType": "object",
                  "type": "string"
                },
                {
                  "name": "helpful_raw",
                  "rawType": "float64",
                  "type": "float"
                },
                {
                  "name": "helpful_log1p",
                  "rawType": "float64",
                  "type": "float"
                },
                {
                  "name": "len_raw",
                  "rawType": "float64",
                  "type": "float"
                },
                {
                  "name": "len_log1p",
                  "rawType": "float64",
                  "type": "float"
                }
              ],
              "ref": "18591209-b8d3-48a3-9674-be368d82a904",
              "rows": [
                [
                  "skew",
                  "155.530541902765",
                  "2.640899193564988",
                  "8.895808484323346",
                  "0.1108027161358233"
                ],
                [
                  "kurt",
                  "47342.46476343415",
                  "9.315671948708896",
                  "220.2191829925144",
                  "-0.5660171555643254"
                ],
                [
                  "mean",
                  "1.161984",
                  "0.32799565776595324",
                  "35.954761",
                  "2.904591286011692"
                ],
                [
                  "std",
                  "11.929200035608318",
                  "0.6362012356126409",
                  "60.391054565327394",
                  "1.1929789776341126"
                ]
              ],
              "shape": {
                "columns": 4,
                "rows": 4
              }
            },
            "text/html": [
              "<div>\n",
              "<style scoped>\n",
              "    .dataframe tbody tr th:only-of-type {\n",
              "        vertical-align: middle;\n",
              "    }\n",
              "\n",
              "    .dataframe tbody tr th {\n",
              "        vertical-align: top;\n",
              "    }\n",
              "\n",
              "    .dataframe thead th {\n",
              "        text-align: right;\n",
              "    }\n",
              "</style>\n",
              "<table border=\"1\" class=\"dataframe\">\n",
              "  <thead>\n",
              "    <tr style=\"text-align: right;\">\n",
              "      <th></th>\n",
              "      <th>helpful_raw</th>\n",
              "      <th>helpful_log1p</th>\n",
              "      <th>len_raw</th>\n",
              "      <th>len_log1p</th>\n",
              "    </tr>\n",
              "  </thead>\n",
              "  <tbody>\n",
              "    <tr>\n",
              "      <th>skew</th>\n",
              "      <td>155.530542</td>\n",
              "      <td>2.640899</td>\n",
              "      <td>8.895808</td>\n",
              "      <td>0.110803</td>\n",
              "    </tr>\n",
              "    <tr>\n",
              "      <th>kurt</th>\n",
              "      <td>47342.464763</td>\n",
              "      <td>9.315672</td>\n",
              "      <td>220.219183</td>\n",
              "      <td>-0.566017</td>\n",
              "    </tr>\n",
              "    <tr>\n",
              "      <th>mean</th>\n",
              "      <td>1.161984</td>\n",
              "      <td>0.327996</td>\n",
              "      <td>35.954761</td>\n",
              "      <td>2.904591</td>\n",
              "    </tr>\n",
              "    <tr>\n",
              "      <th>std</th>\n",
              "      <td>11.929200</td>\n",
              "      <td>0.636201</td>\n",
              "      <td>60.391055</td>\n",
              "      <td>1.192979</td>\n",
              "    </tr>\n",
              "  </tbody>\n",
              "</table>\n",
              "</div>"
            ],
            "text/plain": [
              "       helpful_raw  helpful_log1p     len_raw  len_log1p\n",
              "skew    155.530542       2.640899    8.895808   0.110803\n",
              "kurt  47342.464763       9.315672  220.219183  -0.566017\n",
              "mean      1.161984       0.327996   35.954761   2.904591\n",
              "std      11.929200       0.636201   60.391055   1.192979"
            ]
          },
          "execution_count": 34,
          "metadata": {},
          "output_type": "execute_result"
        }
      ],
      "source": [
        "from sklearn.preprocessing import PowerTransformer\n",
        "\n",
        "# LOG1P para conteos / colas largas\n",
        "df[\"helpful_votes_log1p\"] = np.log1p(df[\"helpful_votes\"].fillna(0))\n",
        "df[\"total_votes_log1p\"]   = np.log1p(df[\"total_votes\"].fillna(0))\n",
        "df[\"len_body_log1p\"]      = np.log1p(df[\"len_body_words\"].fillna(0))\n",
        "\n",
        "# Yeo–Johnson para variables que pueden ser 0\n",
        "yj_cols = [\"excl_count\",\"quest_count\",\"upper_ratio\",\"recency_days\",\"user_freq\",\"product_freq\"]\n",
        "pt = PowerTransformer(method=\"yeo-johnson\", standardize=False)\n",
        "df[[c+\"_yj\" for c in yj_cols]] = pt.fit_transform(df[yj_cols].fillna(0))\n",
        "\n",
        "# Reporte de asimetría antes/después para el informe\n",
        "def brief(s):\n",
        "    return pd.Series({\"skew\": s.skew(), \"kurt\": s.kurtosis(), \"mean\": s.mean(), \"std\": s.std()})\n",
        "report = pd.concat([\n",
        "    brief(df[\"helpful_votes\"]).rename(\"helpful_raw\"),\n",
        "    brief(df[\"helpful_votes_log1p\"]).rename(\"helpful_log1p\"),\n",
        "    brief(df[\"len_body_words\"]).rename(\"len_raw\"),\n",
        "    brief(df[\"len_body_log1p\"]).rename(\"len_log1p\"),\n",
        "], axis=1)\n",
        "report\n"
      ]
    },
    {
      "cell_type": "markdown",
      "metadata": {
        "id": "KOObGLzvHzUX"
      },
      "source": [
        "### 5. Selección y Extracción de Características\n",
        "Tras el preprocesamiento, nos enfrentamos a una matriz de alta dimensionalidad ({X_processed.shape[1]} características), lo que conlleva riesgos como la maldición de la dimensionalidad, sobreajuste y altos costos computacionales. Por ello, aplicamos técnicas para reducir el espacio de características."
      ]
    },
    {
      "cell_type": "code",
      "execution_count": 35,
      "metadata": {},
      "outputs": [],
      "source": [
        "from sklearn.feature_selection import VarianceThreshold\n",
        "from sklearn.decomposition import PCA"
      ]
    },
    {
      "cell_type": "markdown",
      "metadata": {},
      "source": [
        "a) Selección por Umbral de Varianza (Filtrado Simple)\n",
        "\n",
        "Este método elimina características que tienen una varianza muy baja. Una varianza cercana a cero indica que la característica es casi constante para todas las muestras, por lo que no aporta información discriminativa al modelo. Al haber estandarizado los datos previamente, un umbral de varianza de 0.01 es una forma efectiva de eliminar columnas que se volvieron casi constantes tras el escalado o que eran originalmente poco informativas. Con este filtro, se redujo el número de características de 237 a **210**."
      ]
    },
    {
      "cell_type": "code",
      "execution_count": 36,
      "metadata": {
        "id": "LwaIOPaAIi32"
      },
      "outputs": [
        {
          "name": "stdout",
          "output_type": "stream",
          "text": [
            "Variables retenidas tras filtrado por varianza: 210\n"
          ]
        }
      ],
      "source": [
        "# Aplica umbral de varianza a la matriz escalada\n",
        "selector = VarianceThreshold(threshold=0.01)\n",
        "X_varred = selector.fit_transform(X_processed)\n",
        "\n",
        "# Cuántas columnas se conservaron\n",
        "print(\"Variables retenidas tras filtrado por varianza:\", X_varred.shape[1])"
      ]
    },
    {
      "cell_type": "markdown",
      "metadata": {
        "id": "lV0jzJNLIsYd"
      },
      "source": [
        "b) Análisis de Correlación (Diagnóstico de Multicolinealidad)\n",
        "\n",
        "Antes de aplicar técnicas de reducción de dimensionalidad, se realiza un análisis de correlación para diagnosticar la presencia de multicolinealidad. Este análisis se enfoca en el subconjunto de características generadas manualmente para una interpretación visual sencilla.\n",
        "\n",
        "El resultado `[]` (una lista vacía) indica que no existen pares de características manuales con una correlación *extrema* (superior a 0.80), lo cual valida la calidad de la ingeniería de características inicial.\n",
        "\n",
        "Sin embargo, este análisis no incluye las 200 características generadas por TF-IDF, donde es muy probable que exista una multicolinealidad inherente (debido a sinónimos y palabras con significados relacionados, como \"sabor\" y \"gusto\"). Dado lo impráctico de analizar manualmente un espacio de tan alta dimensión, se justifica el uso de una técnica sistemática como PCA para abordar la multicolinealidad en el conjunto de datos completo."
      ]
    },
    {
      "cell_type": "code",
      "execution_count": 41,
      "metadata": {
        "id": "oHh6HkfaIvoz"
      },
      "outputs": [
        {
          "data": {
            "image/png": "[encoded data removed]",
            "text/plain": [
              "<Figure size 1000x600 with 2 Axes>"
            ]
          },
          "metadata": {},
          "output_type": "display_data"
        },
        {
          "name": "stdout",
          "output_type": "stream",
          "text": [
            "Pares con alta correlación (> 0.80): []\n"
          ]
        }
      ],
      "source": [
        "import seaborn as sns\n",
        "import matplotlib.pyplot as plt\n",
        "\n",
        "# Correlación entre variables numéricas originales (antes de one-hot)\n",
        "num_vars = df[[\n",
        "    \"help_ratio\", \"len_body_words\", \"len_headline\", \"upper_ratio\", \"recency_days\",\n",
        "    \"product_freq\", \"user_freq\"\n",
        "]]\n",
        "\n",
        "corr_matrix = num_vars.corr().abs()\n",
        "\n",
        "# Visualizar\n",
        "plt.figure(figsize=(10,6))\n",
        "sns.heatmap(corr_matrix, annot=True, cmap=\"coolwarm\")\n",
        "plt.title(\"Matriz de correlación entre variables numéricas\")\n",
        "plt.show()\n",
        "\n",
        "# Identificar pares altamente correlacionados\n",
        "upper = corr_matrix.where(np.triu(np.ones(corr_matrix.shape), k=1).astype(bool))\n",
        "high_corr = [(col, row) for col in upper.columns for row in upper.index if upper.loc[row, col] > 0.80]\n",
        "print(\"Pares con alta correlación (> 0.80):\", high_corr)"
      ]
    },
    {
      "cell_type": "markdown",
      "metadata": {
        "id": "vV7im9rwJIvw"
      },
      "source": [
        "c) Extracción de Características (PCA)\n",
        "\n",
        "El Análisis de Componentes Principales (PCA) es la técnica seleccionada para abordar de manera sistemática la multicolinealidad presente en el conjunto de datos completo, especialmente la introducida por las 200 características de TF-IDF. En lugar de eliminar características, PCA las combina para crear un nuevo conjunto de variables no correlacionadas (componentes principales) que capturan la máxima varianza posible."
      ]
    },
    {
      "cell_type": "code",
      "execution_count": 42,
      "metadata": {
        "id": "fGd0BTpyJLXB"
      },
      "outputs": [
        {
          "name": "stdout",
          "output_type": "stream",
          "text": [
            "Componentes principales seleccionados para retener el 95% de la varianza: 191\n",
            "Varianza acumulada explicada por los componentes: 0.9534\n"
          ]
        }
      ],
      "source": [
        "from sklearn.decomposition import PCA\n",
        "\n",
        "# Aplica PCA a los datos ya escalados y codificados\n",
        "pca = PCA(n_components=0.95, random_state=1)\n",
        "X_pca = pca.fit_transform(X_processed)\n",
        "print(f\"Componentes principales seleccionados para retener el 95% de la varianza: {pca.n_components_}\")\n",
        "print(f\"Varianza acumulada explicada por los componentes: {pca.explained_variance_ratio_.sum():.4f}\")"
      ]
    },
    {
      "cell_type": "code",
      "execution_count": null,
      "metadata": {},
      "outputs": [],
      "source": [
        "# pd.DataFrame(X_pca).to_csv('~/Downloads/X_pca_final.csv', index=False)\n",
        "# df.to_csv('~/Downloads/df_completo_final.csv', index=False)"
      ]
    },
    {
      "cell_type": "markdown",
      "metadata": {
        "id": "mpZvunbHJbSS"
      },
      "source": [
        "# Conclusión General del Avance 2\n",
        "\n",
        "### Preparación de los Datos (CRISP-ML)\n",
        "\n",
        "En el contexto de la metodología CRISP-ML, la fase de preparación de los datos es crítica para garantizar que los modelos de aprendizaje automático puedan aprender patrones relevantes de forma eficaz y sin sesgos.\n",
        "\n",
        "Durante esta fase se realizó:\n",
        "- La limpieza del dataset original y el manejo de valores faltantes.\n",
        "- Una extensa **ingeniería de características**, generando variables informativas que capturan el comportamiento del usuario, la temporalidad y, crucialmente, el contenido del texto a través de técnicas de **NLP** como el análisis de sentimiento y TF-IDF.\n",
        "- La transformación y codificación de todas las variables mediante un `Pipeline` robusto, resultando en una matriz de **237** características listas para el modelado.\n",
        "- La normalización y escalamiento de variables numéricas para asegurar la equidad en su contribución al modelo.\n",
        "- La **selección y extracción de características** para optimizar el dataset. Un filtro inicial de varianza redujo las características a 210, y posteriormente PCA demostró ser altamente efectivo al reducir la dimensionalidad a **191** componentes mientras se retenía el **95.34%** de la varianza.\n",
        "\n",
        "Todo esto permitió convertir un conjunto de datos crudo, desbalanceado y ruidoso en dos representaciones estructuradas y optimizadas: una matriz completa (`X_processed`) y una versión compacta y descorrelacionada (`X_pca`), ambas listas para la fase de **Modelado** supervisado. Estas acciones alinean perfectamente con la etapa de *Data Preparation* de CRISP-ML, sentando las bases para la posterior modelación, evaluación y despliegue con datos consistentes y con un alto potencial de generalización."
      ]
    }
  ],
  "metadata": {
    "colab": {
      "provenance": []
    },
    "kernelspec": {
      "display_name": "globulive (3.13.7)",
      "language": "python",
      "name": "python3"
    },
    "language_info": {
      "codemirror_mode": {
        "name": "ipython",
        "version": 3
      },
      "file_extension": ".py",
      "mimetype": "text/x-python",
      "name": "python",
      "nbconvert_exporter": "python",
      "pygments_lexer": "ipython3",
      "version": "3.13.7"
    }
  },
  "nbformat": 4,
  "nbformat_minor": 0
}
